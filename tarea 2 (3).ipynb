{
 "cells": [
  {
   "cell_type": "code",
   "execution_count": 8,
   "id": "921f76c5-ddae-4b34-acd1-8d7e71e7afee",
   "metadata": {},
   "outputs": [],
   "source": [
    "import pandas as pd\n",
    "import seaborn as sns\n",
    "import matplotlib.pyplot as plt\n",
    "import numpy as np\n",
    "import io\n",
    "from scipy import stats\n",
    "from statsmodels import robust\n",
    "%matplotlib inline"
   ]
  },
  {
   "cell_type": "code",
   "execution_count": 9,
   "id": "dfa7e466-2a31-4425-acc6-4bb57c551161",
   "metadata": {},
   "outputs": [],
   "source": [
    "datos = pd.read_csv(\"https://github.com/MinCiencia/Datos-COVID19/blob/master/output/producto1/Covid-19.csv?raw=true\", sep=',')"
   ]
  },
  {
   "cell_type": "code",
   "execution_count": 10,
   "id": "e51ad3a5-0c7c-45b2-9d60-299dc2b2b270",
   "metadata": {},
   "outputs": [],
   "source": [
    "demiinteres = datos[datos[\"Comuna\"]== \"Las Condes\"] "
   ]
  },
  {
   "cell_type": "code",
   "execution_count": 11,
   "id": "33279af2-4ba1-4c91-b0b5-f82374ae54a8",
   "metadata": {},
   "outputs": [
    {
     "data": {
      "text/html": [
       "<div>\n",
       "<style scoped>\n",
       "    .dataframe tbody tr th:only-of-type {\n",
       "        vertical-align: middle;\n",
       "    }\n",
       "\n",
       "    .dataframe tbody tr th {\n",
       "        vertical-align: top;\n",
       "    }\n",
       "\n",
       "    .dataframe thead th {\n",
       "        text-align: right;\n",
       "    }\n",
       "</style>\n",
       "<table border=\"1\" class=\"dataframe\">\n",
       "  <thead>\n",
       "    <tr style=\"text-align: right;\">\n",
       "      <th></th>\n",
       "      <th>Region</th>\n",
       "      <th>Codigo region</th>\n",
       "      <th>Comuna</th>\n",
       "      <th>Codigo comuna</th>\n",
       "      <th>Poblacion</th>\n",
       "      <th>2020-03-30</th>\n",
       "      <th>2020-04-01</th>\n",
       "      <th>2020-04-03</th>\n",
       "      <th>2020-04-06</th>\n",
       "      <th>2020-04-08</th>\n",
       "      <th>...</th>\n",
       "      <th>2021-11-05</th>\n",
       "      <th>2021-11-08</th>\n",
       "      <th>2021-11-12</th>\n",
       "      <th>2021-11-15</th>\n",
       "      <th>2021-11-19</th>\n",
       "      <th>2021-11-22</th>\n",
       "      <th>2021-11-26</th>\n",
       "      <th>2021-11-29</th>\n",
       "      <th>2021-12-03</th>\n",
       "      <th>Tasa</th>\n",
       "    </tr>\n",
       "  </thead>\n",
       "  <tbody>\n",
       "    <tr>\n",
       "      <th>108</th>\n",
       "      <td>Metropolitana</td>\n",
       "      <td>13</td>\n",
       "      <td>Las Condes</td>\n",
       "      <td>13114.0</td>\n",
       "      <td>330759.0</td>\n",
       "      <td>181.0</td>\n",
       "      <td>208.0</td>\n",
       "      <td>224.0</td>\n",
       "      <td>258.0</td>\n",
       "      <td>266.0</td>\n",
       "      <td>...</td>\n",
       "      <td>21394.0</td>\n",
       "      <td>21589.0</td>\n",
       "      <td>21754.0</td>\n",
       "      <td>21847.0</td>\n",
       "      <td>21967.0</td>\n",
       "      <td>22028.0</td>\n",
       "      <td>22122.0</td>\n",
       "      <td>22160.0</td>\n",
       "      <td>22193.0</td>\n",
       "      <td>6709.7</td>\n",
       "    </tr>\n",
       "  </tbody>\n",
       "</table>\n",
       "<p>1 rows × 184 columns</p>\n",
       "</div>"
      ],
      "text/plain": [
       "            Region  Codigo region      Comuna  Codigo comuna  Poblacion  \\\n",
       "108  Metropolitana             13  Las Condes        13114.0   330759.0   \n",
       "\n",
       "     2020-03-30  2020-04-01  2020-04-03  2020-04-06  2020-04-08  ...  \\\n",
       "108       181.0       208.0       224.0       258.0       266.0  ...   \n",
       "\n",
       "     2021-11-05  2021-11-08  2021-11-12  2021-11-15  2021-11-19  2021-11-22  \\\n",
       "108     21394.0     21589.0     21754.0     21847.0     21967.0     22028.0   \n",
       "\n",
       "     2021-11-26  2021-11-29  2021-12-03    Tasa  \n",
       "108     22122.0     22160.0     22193.0  6709.7  \n",
       "\n",
       "[1 rows x 184 columns]"
      ]
     },
     "execution_count": 11,
     "metadata": {},
     "output_type": "execute_result"
    }
   ],
   "source": [
    "demiinteres.head()"
   ]
  },
  {
   "cell_type": "code",
   "execution_count": 12,
   "id": "ad26e82b-c7f3-495a-a9b9-1596d84a37f1",
   "metadata": {},
   "outputs": [],
   "source": [
    "nuevo = demiinteres.melt(id_vars=[\"Region\",\"Codigo region\", \"Comuna\",\"Codigo comuna\",\"Poblacion\", \"Tasa\"], var_name=\"Fecha\", value_name=\"Casos\")"
   ]
  },
  {
   "cell_type": "code",
   "execution_count": 13,
   "id": "1af7a63e-f9af-4d7c-ae65-0915326401f3",
   "metadata": {},
   "outputs": [
    {
     "data": {
      "text/html": [
       "<div>\n",
       "<style scoped>\n",
       "    .dataframe tbody tr th:only-of-type {\n",
       "        vertical-align: middle;\n",
       "    }\n",
       "\n",
       "    .dataframe tbody tr th {\n",
       "        vertical-align: top;\n",
       "    }\n",
       "\n",
       "    .dataframe thead th {\n",
       "        text-align: right;\n",
       "    }\n",
       "</style>\n",
       "<table border=\"1\" class=\"dataframe\">\n",
       "  <thead>\n",
       "    <tr style=\"text-align: right;\">\n",
       "      <th></th>\n",
       "      <th>Region</th>\n",
       "      <th>Codigo region</th>\n",
       "      <th>Comuna</th>\n",
       "      <th>Codigo comuna</th>\n",
       "      <th>Poblacion</th>\n",
       "      <th>Tasa</th>\n",
       "      <th>Fecha</th>\n",
       "      <th>Casos</th>\n",
       "    </tr>\n",
       "  </thead>\n",
       "  <tbody>\n",
       "    <tr>\n",
       "      <th>0</th>\n",
       "      <td>Metropolitana</td>\n",
       "      <td>13</td>\n",
       "      <td>Las Condes</td>\n",
       "      <td>13114.0</td>\n",
       "      <td>330759.0</td>\n",
       "      <td>6709.7</td>\n",
       "      <td>2020-03-30</td>\n",
       "      <td>181.0</td>\n",
       "    </tr>\n",
       "    <tr>\n",
       "      <th>1</th>\n",
       "      <td>Metropolitana</td>\n",
       "      <td>13</td>\n",
       "      <td>Las Condes</td>\n",
       "      <td>13114.0</td>\n",
       "      <td>330759.0</td>\n",
       "      <td>6709.7</td>\n",
       "      <td>2020-04-01</td>\n",
       "      <td>208.0</td>\n",
       "    </tr>\n",
       "    <tr>\n",
       "      <th>2</th>\n",
       "      <td>Metropolitana</td>\n",
       "      <td>13</td>\n",
       "      <td>Las Condes</td>\n",
       "      <td>13114.0</td>\n",
       "      <td>330759.0</td>\n",
       "      <td>6709.7</td>\n",
       "      <td>2020-04-03</td>\n",
       "      <td>224.0</td>\n",
       "    </tr>\n",
       "    <tr>\n",
       "      <th>3</th>\n",
       "      <td>Metropolitana</td>\n",
       "      <td>13</td>\n",
       "      <td>Las Condes</td>\n",
       "      <td>13114.0</td>\n",
       "      <td>330759.0</td>\n",
       "      <td>6709.7</td>\n",
       "      <td>2020-04-06</td>\n",
       "      <td>258.0</td>\n",
       "    </tr>\n",
       "    <tr>\n",
       "      <th>4</th>\n",
       "      <td>Metropolitana</td>\n",
       "      <td>13</td>\n",
       "      <td>Las Condes</td>\n",
       "      <td>13114.0</td>\n",
       "      <td>330759.0</td>\n",
       "      <td>6709.7</td>\n",
       "      <td>2020-04-08</td>\n",
       "      <td>266.0</td>\n",
       "    </tr>\n",
       "  </tbody>\n",
       "</table>\n",
       "</div>"
      ],
      "text/plain": [
       "          Region  Codigo region      Comuna  Codigo comuna  Poblacion    Tasa  \\\n",
       "0  Metropolitana             13  Las Condes        13114.0   330759.0  6709.7   \n",
       "1  Metropolitana             13  Las Condes        13114.0   330759.0  6709.7   \n",
       "2  Metropolitana             13  Las Condes        13114.0   330759.0  6709.7   \n",
       "3  Metropolitana             13  Las Condes        13114.0   330759.0  6709.7   \n",
       "4  Metropolitana             13  Las Condes        13114.0   330759.0  6709.7   \n",
       "\n",
       "        Fecha  Casos  \n",
       "0  2020-03-30  181.0  \n",
       "1  2020-04-01  208.0  \n",
       "2  2020-04-03  224.0  \n",
       "3  2020-04-06  258.0  \n",
       "4  2020-04-08  266.0  "
      ]
     },
     "execution_count": 13,
     "metadata": {},
     "output_type": "execute_result"
    }
   ],
   "source": [
    "nuevo.head()"
   ]
  },
  {
   "cell_type": "code",
   "execution_count": 14,
   "id": "2257efc0-1aa2-4ccc-8806-0a7c34ac2f97",
   "metadata": {},
   "outputs": [],
   "source": [
    "datos1 = nuevo[['Region','Comuna','Fecha','Casos']]"
   ]
  },
  {
   "cell_type": "code",
   "execution_count": 15,
   "id": "0759e03a-9ce8-49f6-9030-f19394514046",
   "metadata": {},
   "outputs": [
    {
     "name": "stderr",
     "output_type": "stream",
     "text": [
      "<ipython-input-15-9fb560b36e97>:1: SettingWithCopyWarning: \n",
      "A value is trying to be set on a copy of a slice from a DataFrame.\n",
      "Try using .loc[row_indexer,col_indexer] = value instead\n",
      "\n",
      "See the caveats in the documentation: https://pandas.pydata.org/pandas-docs/stable/user_guide/indexing.html#returning-a-view-versus-a-copy\n",
      "  datos1['Fecha'] = pd.to_datetime(datos1['Fecha'])\n"
     ]
    }
   ],
   "source": [
    "datos1['Fecha'] = pd.to_datetime(datos1['Fecha'])"
   ]
  },
  {
   "cell_type": "code",
   "execution_count": 16,
   "id": "4f4259a2-a9b1-4078-aca5-27d0d00629b1",
   "metadata": {},
   "outputs": [],
   "source": [
    "dat= datos1.groupby('Comuna').resample('W-Mon', on='Fecha').sum().reset_index().sort_values(by='Fecha')"
   ]
  },
  {
   "cell_type": "code",
   "execution_count": 17,
   "id": "68b37b86-794a-4be2-8278-be932562b0fe",
   "metadata": {},
   "outputs": [],
   "source": [
    "dat[\"Resta\"] = dat[\"Casos\"]-dat[\"Casos\"].shift()"
   ]
  },
  {
   "cell_type": "code",
   "execution_count": 18,
   "id": "e3416030-076c-4e39-8d17-9f957b7c9582",
   "metadata": {},
   "outputs": [
    {
     "data": {
      "text/html": [
       "<div>\n",
       "<style scoped>\n",
       "    .dataframe tbody tr th:only-of-type {\n",
       "        vertical-align: middle;\n",
       "    }\n",
       "\n",
       "    .dataframe tbody tr th {\n",
       "        vertical-align: top;\n",
       "    }\n",
       "\n",
       "    .dataframe thead th {\n",
       "        text-align: right;\n",
       "    }\n",
       "</style>\n",
       "<table border=\"1\" class=\"dataframe\">\n",
       "  <thead>\n",
       "    <tr style=\"text-align: right;\">\n",
       "      <th></th>\n",
       "      <th>Comuna</th>\n",
       "      <th>Fecha</th>\n",
       "      <th>Casos</th>\n",
       "      <th>Resta</th>\n",
       "    </tr>\n",
       "  </thead>\n",
       "  <tbody>\n",
       "    <tr>\n",
       "      <th>0</th>\n",
       "      <td>Las Condes</td>\n",
       "      <td>2020-03-30</td>\n",
       "      <td>181.0</td>\n",
       "      <td>NaN</td>\n",
       "    </tr>\n",
       "    <tr>\n",
       "      <th>1</th>\n",
       "      <td>Las Condes</td>\n",
       "      <td>2020-04-06</td>\n",
       "      <td>690.0</td>\n",
       "      <td>509.0</td>\n",
       "    </tr>\n",
       "    <tr>\n",
       "      <th>2</th>\n",
       "      <td>Las Condes</td>\n",
       "      <td>2020-04-13</td>\n",
       "      <td>843.0</td>\n",
       "      <td>153.0</td>\n",
       "    </tr>\n",
       "    <tr>\n",
       "      <th>3</th>\n",
       "      <td>Las Condes</td>\n",
       "      <td>2020-04-20</td>\n",
       "      <td>952.0</td>\n",
       "      <td>109.0</td>\n",
       "    </tr>\n",
       "    <tr>\n",
       "      <th>4</th>\n",
       "      <td>Las Condes</td>\n",
       "      <td>2020-04-27</td>\n",
       "      <td>701.0</td>\n",
       "      <td>-251.0</td>\n",
       "    </tr>\n",
       "  </tbody>\n",
       "</table>\n",
       "</div>"
      ],
      "text/plain": [
       "       Comuna      Fecha  Casos  Resta\n",
       "0  Las Condes 2020-03-30  181.0    NaN\n",
       "1  Las Condes 2020-04-06  690.0  509.0\n",
       "2  Las Condes 2020-04-13  843.0  153.0\n",
       "3  Las Condes 2020-04-20  952.0  109.0\n",
       "4  Las Condes 2020-04-27  701.0 -251.0"
      ]
     },
     "execution_count": 18,
     "metadata": {},
     "output_type": "execute_result"
    }
   ],
   "source": [
    "dat.head()"
   ]
  },
  {
   "cell_type": "code",
   "execution_count": 19,
   "id": "46910362-b577-466f-b894-c4a21c678c82",
   "metadata": {},
   "outputs": [],
   "source": [
    "datos2 = dat[dat[\"Resta\"] > 0].reset_index() "
   ]
  },
  {
   "cell_type": "code",
   "execution_count": 22,
   "id": "dde5c6e2-1498-4dae-9e88-d9aa14e81581",
   "metadata": {},
   "outputs": [],
   "source": [
    "datos2.drop('Casos', axis=1, inplace=True)"
   ]
  },
  {
   "cell_type": "code",
   "execution_count": 23,
   "id": "2ced938b-bb5b-4edf-a903-b9cb870aca67",
   "metadata": {},
   "outputs": [
    {
     "data": {
      "text/plain": [
       "<AxesSubplot:xlabel='Fecha', ylabel='Resta'>"
      ]
     },
     "execution_count": 23,
     "metadata": {},
     "output_type": "execute_result"
    },
    {
     "data": {
      "image/png": "[encoded data removed]",
      "text/plain": [
       "<Figure size 432x288 with 1 Axes>"
      ]
     },
     "metadata": {
      "needs_background": "light"
     },
     "output_type": "display_data"
    }
   ],
   "source": [
    "sns.boxplot(x=\"Fecha\", y=\"Resta\", data=datos2)"
   ]
  },
  {
   "cell_type": "code",
   "execution_count": 30,
   "id": "30639276-3009-4073-a43d-8fdf6a6de1ef",
   "metadata": {},
   "outputs": [
    {
     "data": {
      "text/html": [
       "<div>\n",
       "<style scoped>\n",
       "    .dataframe tbody tr th:only-of-type {\n",
       "        vertical-align: middle;\n",
       "    }\n",
       "\n",
       "    .dataframe tbody tr th {\n",
       "        vertical-align: top;\n",
       "    }\n",
       "\n",
       "    .dataframe thead th {\n",
       "        text-align: right;\n",
       "    }\n",
       "</style>\n",
       "<table border=\"1\" class=\"dataframe\">\n",
       "  <thead>\n",
       "    <tr style=\"text-align: right;\">\n",
       "      <th></th>\n",
       "      <th>Comuna</th>\n",
       "      <th>Fecha</th>\n",
       "      <th>Resta</th>\n",
       "    </tr>\n",
       "  </thead>\n",
       "  <tbody>\n",
       "    <tr>\n",
       "      <th>7</th>\n",
       "      <td>Las Condes</td>\n",
       "      <td>2020-06-01</td>\n",
       "      <td>1373.0</td>\n",
       "    </tr>\n",
       "    <tr>\n",
       "      <th>10</th>\n",
       "      <td>Las Condes</td>\n",
       "      <td>2020-06-29</td>\n",
       "      <td>5033.0</td>\n",
       "    </tr>\n",
       "    <tr>\n",
       "      <th>60</th>\n",
       "      <td>Las Condes</td>\n",
       "      <td>2021-06-14</td>\n",
       "      <td>1352.0</td>\n",
       "    </tr>\n",
       "  </tbody>\n",
       "</table>\n",
       "</div>"
      ],
      "text/plain": [
       "        Comuna      Fecha   Resta\n",
       "7   Las Condes 2020-06-01  1373.0\n",
       "10  Las Condes 2020-06-29  5033.0\n",
       "60  Las Condes 2021-06-14  1352.0"
      ]
     },
     "execution_count": 30,
     "metadata": {},
     "output_type": "execute_result"
    }
   ],
   "source": [
    "outliers.head()"
   ]
  },
  {
   "cell_type": "code",
   "execution_count": null,
   "id": "5816d83e-4c00-4895-a200-395aa0166d50",
   "metadata": {},
   "outputs": [],
   "source": []
  }
 ],
 "metadata": {
  "kernelspec": {
   "display_name": "Python 3",
   "language": "python",
   "name": "python3"
  },
  "language_info": {
   "codemirror_mode": {
    "name": "ipython",
    "version": 3
   },
   "file_extension": ".py",
   "mimetype": "text/x-python",
   "name": "python",
   "nbconvert_exporter": "python",
   "pygments_lexer": "ipython3",
   "version": "3.8.8"
  }
 },
 "nbformat": 4,
 "nbformat_minor": 5
}
