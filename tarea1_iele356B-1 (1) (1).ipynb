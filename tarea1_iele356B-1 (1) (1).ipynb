{
 "cells": [
  {
   "cell_type": "code",
   "execution_count": 362,
   "id": "b624826d",
   "metadata": {},
   "outputs": [],
   "source": [
    "import pandas as pd\n",
    "import seaborn as sns\n",
    "import matplotlib.pyplot as plt\n",
    "import numpy as np\n",
    "import io\n",
    "from scipy import stats\n",
    "from statsmodels import robust\n",
    "%matplotlib inline"
   ]
  },
  {
   "cell_type": "code",
   "execution_count": 363,
   "id": "3dda576b",
   "metadata": {},
   "outputs": [],
   "source": [
    "df = pd.read_csv('https://github.com/MinCiencia/Datos-COVID19/blob/master/input/Paso_a_paso/paso_a_paso.csv?raw=true', sep=',')"
   ]
  },
  {
   "cell_type": "code",
   "execution_count": 364,
   "id": "4d22b8bb-8aaf-4f25-acc9-9d654f4537dc",
   "metadata": {},
   "outputs": [
    {
     "data": {
      "text/html": [
       "<div>\n",
       "<style scoped>\n",
       "    .dataframe tbody tr th:only-of-type {\n",
       "        vertical-align: middle;\n",
       "    }\n",
       "\n",
       "    .dataframe tbody tr th {\n",
       "        vertical-align: top;\n",
       "    }\n",
       "\n",
       "    .dataframe thead th {\n",
       "        text-align: right;\n",
       "    }\n",
       "</style>\n",
       "<table border=\"1\" class=\"dataframe\">\n",
       "  <thead>\n",
       "    <tr style=\"text-align: right;\">\n",
       "      <th></th>\n",
       "      <th>codigo_region</th>\n",
       "      <th>region_residencia</th>\n",
       "      <th>codigo_comuna</th>\n",
       "      <th>comuna_residencia</th>\n",
       "      <th>zona</th>\n",
       "      <th>2020-07-28</th>\n",
       "      <th>2020-07-29</th>\n",
       "      <th>2020-07-30</th>\n",
       "      <th>2020-07-31</th>\n",
       "      <th>2020-08-01</th>\n",
       "      <th>...</th>\n",
       "      <th>2021-11-22</th>\n",
       "      <th>2021-11-23</th>\n",
       "      <th>2021-11-24</th>\n",
       "      <th>2021-11-25</th>\n",
       "      <th>2021-11-26</th>\n",
       "      <th>2021-11-27</th>\n",
       "      <th>2021-11-28</th>\n",
       "      <th>2021-11-29</th>\n",
       "      <th>2021-11-30</th>\n",
       "      <th>2021-12-01</th>\n",
       "    </tr>\n",
       "  </thead>\n",
       "  <tbody>\n",
       "    <tr>\n",
       "      <th>0</th>\n",
       "      <td>15</td>\n",
       "      <td>Arica y Parinacota</td>\n",
       "      <td>15101</td>\n",
       "      <td>Arica</td>\n",
       "      <td>Rural</td>\n",
       "      <td>3</td>\n",
       "      <td>3</td>\n",
       "      <td>3</td>\n",
       "      <td>3</td>\n",
       "      <td>3</td>\n",
       "      <td>...</td>\n",
       "      <td>3</td>\n",
       "      <td>3</td>\n",
       "      <td>3</td>\n",
       "      <td>3</td>\n",
       "      <td>3</td>\n",
       "      <td>4</td>\n",
       "      <td>4</td>\n",
       "      <td>4</td>\n",
       "      <td>4</td>\n",
       "      <td>4</td>\n",
       "    </tr>\n",
       "    <tr>\n",
       "      <th>1</th>\n",
       "      <td>15</td>\n",
       "      <td>Arica y Parinacota</td>\n",
       "      <td>15101</td>\n",
       "      <td>Arica</td>\n",
       "      <td>Urbana</td>\n",
       "      <td>1</td>\n",
       "      <td>1</td>\n",
       "      <td>1</td>\n",
       "      <td>1</td>\n",
       "      <td>1</td>\n",
       "      <td>...</td>\n",
       "      <td>3</td>\n",
       "      <td>3</td>\n",
       "      <td>3</td>\n",
       "      <td>3</td>\n",
       "      <td>3</td>\n",
       "      <td>4</td>\n",
       "      <td>4</td>\n",
       "      <td>4</td>\n",
       "      <td>4</td>\n",
       "      <td>4</td>\n",
       "    </tr>\n",
       "    <tr>\n",
       "      <th>2</th>\n",
       "      <td>15</td>\n",
       "      <td>Arica y Parinacota</td>\n",
       "      <td>15102</td>\n",
       "      <td>Camarones</td>\n",
       "      <td>Total</td>\n",
       "      <td>3</td>\n",
       "      <td>3</td>\n",
       "      <td>3</td>\n",
       "      <td>3</td>\n",
       "      <td>3</td>\n",
       "      <td>...</td>\n",
       "      <td>4</td>\n",
       "      <td>4</td>\n",
       "      <td>4</td>\n",
       "      <td>4</td>\n",
       "      <td>4</td>\n",
       "      <td>4</td>\n",
       "      <td>4</td>\n",
       "      <td>4</td>\n",
       "      <td>4</td>\n",
       "      <td>4</td>\n",
       "    </tr>\n",
       "    <tr>\n",
       "      <th>3</th>\n",
       "      <td>15</td>\n",
       "      <td>Arica y Parinacota</td>\n",
       "      <td>15202</td>\n",
       "      <td>General Lagos</td>\n",
       "      <td>Total</td>\n",
       "      <td>3</td>\n",
       "      <td>3</td>\n",
       "      <td>3</td>\n",
       "      <td>3</td>\n",
       "      <td>3</td>\n",
       "      <td>...</td>\n",
       "      <td>4</td>\n",
       "      <td>4</td>\n",
       "      <td>4</td>\n",
       "      <td>4</td>\n",
       "      <td>4</td>\n",
       "      <td>4</td>\n",
       "      <td>4</td>\n",
       "      <td>4</td>\n",
       "      <td>4</td>\n",
       "      <td>4</td>\n",
       "    </tr>\n",
       "    <tr>\n",
       "      <th>4</th>\n",
       "      <td>15</td>\n",
       "      <td>Arica y Parinacota</td>\n",
       "      <td>15201</td>\n",
       "      <td>Putre</td>\n",
       "      <td>Total</td>\n",
       "      <td>3</td>\n",
       "      <td>3</td>\n",
       "      <td>3</td>\n",
       "      <td>3</td>\n",
       "      <td>3</td>\n",
       "      <td>...</td>\n",
       "      <td>4</td>\n",
       "      <td>4</td>\n",
       "      <td>4</td>\n",
       "      <td>4</td>\n",
       "      <td>4</td>\n",
       "      <td>4</td>\n",
       "      <td>4</td>\n",
       "      <td>4</td>\n",
       "      <td>4</td>\n",
       "      <td>4</td>\n",
       "    </tr>\n",
       "  </tbody>\n",
       "</table>\n",
       "<p>5 rows × 497 columns</p>\n",
       "</div>"
      ],
      "text/plain": [
       "   codigo_region   region_residencia  codigo_comuna comuna_residencia    zona  \\\n",
       "0             15  Arica y Parinacota          15101             Arica   Rural   \n",
       "1             15  Arica y Parinacota          15101             Arica  Urbana   \n",
       "2             15  Arica y Parinacota          15102         Camarones   Total   \n",
       "3             15  Arica y Parinacota          15202     General Lagos   Total   \n",
       "4             15  Arica y Parinacota          15201             Putre   Total   \n",
       "\n",
       "   2020-07-28  2020-07-29  2020-07-30  2020-07-31  2020-08-01  ...  \\\n",
       "0           3           3           3           3           3  ...   \n",
       "1           1           1           1           1           1  ...   \n",
       "2           3           3           3           3           3  ...   \n",
       "3           3           3           3           3           3  ...   \n",
       "4           3           3           3           3           3  ...   \n",
       "\n",
       "   2021-11-22  2021-11-23  2021-11-24  2021-11-25  2021-11-26  2021-11-27  \\\n",
       "0           3           3           3           3           3           4   \n",
       "1           3           3           3           3           3           4   \n",
       "2           4           4           4           4           4           4   \n",
       "3           4           4           4           4           4           4   \n",
       "4           4           4           4           4           4           4   \n",
       "\n",
       "   2021-11-28  2021-11-29  2021-11-30  2021-12-01  \n",
       "0           4           4           4           4  \n",
       "1           4           4           4           4  \n",
       "2           4           4           4           4  \n",
       "3           4           4           4           4  \n",
       "4           4           4           4           4  \n",
       "\n",
       "[5 rows x 497 columns]"
      ]
     },
     "execution_count": 364,
     "metadata": {},
     "output_type": "execute_result"
    }
   ],
   "source": [
    "df.head()"
   ]
  },
  {
   "cell_type": "code",
   "execution_count": 365,
   "id": "22a24c06",
   "metadata": {},
   "outputs": [],
   "source": [
    "df1 = pd.read_csv('https://github.com/MinCiencia/Datos-COVID19/blob/master/output/producto1/Covid-19.csv?raw=true')"
   ]
  },
  {
   "cell_type": "code",
   "execution_count": 366,
   "id": "ef1442eb",
   "metadata": {},
   "outputs": [
    {
     "data": {
      "text/html": [
       "<div>\n",
       "<style scoped>\n",
       "    .dataframe tbody tr th:only-of-type {\n",
       "        vertical-align: middle;\n",
       "    }\n",
       "\n",
       "    .dataframe tbody tr th {\n",
       "        vertical-align: top;\n",
       "    }\n",
       "\n",
       "    .dataframe thead th {\n",
       "        text-align: right;\n",
       "    }\n",
       "</style>\n",
       "<table border=\"1\" class=\"dataframe\">\n",
       "  <thead>\n",
       "    <tr style=\"text-align: right;\">\n",
       "      <th></th>\n",
       "      <th>Region</th>\n",
       "      <th>Codigo region</th>\n",
       "      <th>Comuna</th>\n",
       "      <th>Codigo comuna</th>\n",
       "      <th>Poblacion</th>\n",
       "      <th>2020-03-30</th>\n",
       "      <th>2020-04-01</th>\n",
       "      <th>2020-04-03</th>\n",
       "      <th>2020-04-06</th>\n",
       "      <th>2020-04-08</th>\n",
       "      <th>...</th>\n",
       "      <th>2021-11-05</th>\n",
       "      <th>2021-11-08</th>\n",
       "      <th>2021-11-12</th>\n",
       "      <th>2021-11-15</th>\n",
       "      <th>2021-11-19</th>\n",
       "      <th>2021-11-22</th>\n",
       "      <th>2021-11-26</th>\n",
       "      <th>2021-11-29</th>\n",
       "      <th>2021-12-03</th>\n",
       "      <th>Tasa</th>\n",
       "    </tr>\n",
       "  </thead>\n",
       "  <tbody>\n",
       "    <tr>\n",
       "      <th>0</th>\n",
       "      <td>Arica y Parinacota</td>\n",
       "      <td>15</td>\n",
       "      <td>Arica</td>\n",
       "      <td>15101.0</td>\n",
       "      <td>247552.0</td>\n",
       "      <td>6.0</td>\n",
       "      <td>6.0</td>\n",
       "      <td>12.0</td>\n",
       "      <td>41.0</td>\n",
       "      <td>63.0</td>\n",
       "      <td>...</td>\n",
       "      <td>31125.0</td>\n",
       "      <td>31208.0</td>\n",
       "      <td>31361.0</td>\n",
       "      <td>31438.0</td>\n",
       "      <td>31519.0</td>\n",
       "      <td>31566.0</td>\n",
       "      <td>31643.0</td>\n",
       "      <td>31662.0</td>\n",
       "      <td>31713.0</td>\n",
       "      <td>12810.6</td>\n",
       "    </tr>\n",
       "    <tr>\n",
       "      <th>1</th>\n",
       "      <td>Arica y Parinacota</td>\n",
       "      <td>15</td>\n",
       "      <td>Camarones</td>\n",
       "      <td>15102.0</td>\n",
       "      <td>1233.0</td>\n",
       "      <td>0.0</td>\n",
       "      <td>0.0</td>\n",
       "      <td>0.0</td>\n",
       "      <td>0.0</td>\n",
       "      <td>0.0</td>\n",
       "      <td>...</td>\n",
       "      <td>73.0</td>\n",
       "      <td>73.0</td>\n",
       "      <td>73.0</td>\n",
       "      <td>73.0</td>\n",
       "      <td>73.0</td>\n",
       "      <td>73.0</td>\n",
       "      <td>73.0</td>\n",
       "      <td>73.0</td>\n",
       "      <td>73.0</td>\n",
       "      <td>5920.5</td>\n",
       "    </tr>\n",
       "    <tr>\n",
       "      <th>2</th>\n",
       "      <td>Arica y Parinacota</td>\n",
       "      <td>15</td>\n",
       "      <td>General Lagos</td>\n",
       "      <td>15202.0</td>\n",
       "      <td>810.0</td>\n",
       "      <td>0.0</td>\n",
       "      <td>0.0</td>\n",
       "      <td>0.0</td>\n",
       "      <td>0.0</td>\n",
       "      <td>0.0</td>\n",
       "      <td>...</td>\n",
       "      <td>88.0</td>\n",
       "      <td>88.0</td>\n",
       "      <td>88.0</td>\n",
       "      <td>88.0</td>\n",
       "      <td>88.0</td>\n",
       "      <td>88.0</td>\n",
       "      <td>88.0</td>\n",
       "      <td>88.0</td>\n",
       "      <td>88.0</td>\n",
       "      <td>10864.2</td>\n",
       "    </tr>\n",
       "    <tr>\n",
       "      <th>3</th>\n",
       "      <td>Arica y Parinacota</td>\n",
       "      <td>15</td>\n",
       "      <td>Putre</td>\n",
       "      <td>15201.0</td>\n",
       "      <td>2515.0</td>\n",
       "      <td>0.0</td>\n",
       "      <td>0.0</td>\n",
       "      <td>0.0</td>\n",
       "      <td>0.0</td>\n",
       "      <td>0.0</td>\n",
       "      <td>...</td>\n",
       "      <td>216.0</td>\n",
       "      <td>216.0</td>\n",
       "      <td>216.0</td>\n",
       "      <td>217.0</td>\n",
       "      <td>216.0</td>\n",
       "      <td>217.0</td>\n",
       "      <td>217.0</td>\n",
       "      <td>217.0</td>\n",
       "      <td>217.0</td>\n",
       "      <td>8628.2</td>\n",
       "    </tr>\n",
       "    <tr>\n",
       "      <th>4</th>\n",
       "      <td>Arica y Parinacota</td>\n",
       "      <td>15</td>\n",
       "      <td>Desconocido Arica y Parinacota</td>\n",
       "      <td>NaN</td>\n",
       "      <td>NaN</td>\n",
       "      <td>NaN</td>\n",
       "      <td>NaN</td>\n",
       "      <td>NaN</td>\n",
       "      <td>NaN</td>\n",
       "      <td>NaN</td>\n",
       "      <td>...</td>\n",
       "      <td>211.0</td>\n",
       "      <td>211.0</td>\n",
       "      <td>212.0</td>\n",
       "      <td>213.0</td>\n",
       "      <td>214.0</td>\n",
       "      <td>215.0</td>\n",
       "      <td>225.0</td>\n",
       "      <td>230.0</td>\n",
       "      <td>233.0</td>\n",
       "      <td>NaN</td>\n",
       "    </tr>\n",
       "  </tbody>\n",
       "</table>\n",
       "<p>5 rows × 184 columns</p>\n",
       "</div>"
      ],
      "text/plain": [
       "               Region  Codigo region                          Comuna  \\\n",
       "0  Arica y Parinacota             15                           Arica   \n",
       "1  Arica y Parinacota             15                       Camarones   \n",
       "2  Arica y Parinacota             15                   General Lagos   \n",
       "3  Arica y Parinacota             15                           Putre   \n",
       "4  Arica y Parinacota             15  Desconocido Arica y Parinacota   \n",
       "\n",
       "   Codigo comuna  Poblacion  2020-03-30  2020-04-01  2020-04-03  2020-04-06  \\\n",
       "0        15101.0   247552.0         6.0         6.0        12.0        41.0   \n",
       "1        15102.0     1233.0         0.0         0.0         0.0         0.0   \n",
       "2        15202.0      810.0         0.0         0.0         0.0         0.0   \n",
       "3        15201.0     2515.0         0.0         0.0         0.0         0.0   \n",
       "4            NaN        NaN         NaN         NaN         NaN         NaN   \n",
       "\n",
       "   2020-04-08  ...  2021-11-05  2021-11-08  2021-11-12  2021-11-15  \\\n",
       "0        63.0  ...     31125.0     31208.0     31361.0     31438.0   \n",
       "1         0.0  ...        73.0        73.0        73.0        73.0   \n",
       "2         0.0  ...        88.0        88.0        88.0        88.0   \n",
       "3         0.0  ...       216.0       216.0       216.0       217.0   \n",
       "4         NaN  ...       211.0       211.0       212.0       213.0   \n",
       "\n",
       "   2021-11-19  2021-11-22  2021-11-26  2021-11-29  2021-12-03     Tasa  \n",
       "0     31519.0     31566.0     31643.0     31662.0     31713.0  12810.6  \n",
       "1        73.0        73.0        73.0        73.0        73.0   5920.5  \n",
       "2        88.0        88.0        88.0        88.0        88.0  10864.2  \n",
       "3       216.0       217.0       217.0       217.0       217.0   8628.2  \n",
       "4       214.0       215.0       225.0       230.0       233.0      NaN  \n",
       "\n",
       "[5 rows x 184 columns]"
      ]
     },
     "execution_count": 366,
     "metadata": {},
     "output_type": "execute_result"
    }
   ],
   "source": [
    "df1.head()"
   ]
  },
  {
   "cell_type": "code",
   "execution_count": 367,
   "id": "44c56e7f",
   "metadata": {},
   "outputs": [],
   "source": [
    "df22 = df1[['Region','Codigo region','Codigo comuna','Comuna','Poblacion']]\n",
    "##elimino las comunas que no me sirven del df2"
   ]
  },
  {
   "cell_type": "code",
   "execution_count": 368,
   "id": "8eb8f6ba",
   "metadata": {},
   "outputs": [
    {
     "data": {
      "text/html": [
       "<div>\n",
       "<style scoped>\n",
       "    .dataframe tbody tr th:only-of-type {\n",
       "        vertical-align: middle;\n",
       "    }\n",
       "\n",
       "    .dataframe tbody tr th {\n",
       "        vertical-align: top;\n",
       "    }\n",
       "\n",
       "    .dataframe thead th {\n",
       "        text-align: right;\n",
       "    }\n",
       "</style>\n",
       "<table border=\"1\" class=\"dataframe\">\n",
       "  <thead>\n",
       "    <tr style=\"text-align: right;\">\n",
       "      <th></th>\n",
       "      <th>Region</th>\n",
       "      <th>Codigo region</th>\n",
       "      <th>Codigo comuna</th>\n",
       "      <th>Comuna</th>\n",
       "      <th>Poblacion</th>\n",
       "    </tr>\n",
       "  </thead>\n",
       "  <tbody>\n",
       "    <tr>\n",
       "      <th>0</th>\n",
       "      <td>Arica y Parinacota</td>\n",
       "      <td>15</td>\n",
       "      <td>15101.0</td>\n",
       "      <td>Arica</td>\n",
       "      <td>247552.0</td>\n",
       "    </tr>\n",
       "    <tr>\n",
       "      <th>1</th>\n",
       "      <td>Arica y Parinacota</td>\n",
       "      <td>15</td>\n",
       "      <td>15102.0</td>\n",
       "      <td>Camarones</td>\n",
       "      <td>1233.0</td>\n",
       "    </tr>\n",
       "    <tr>\n",
       "      <th>2</th>\n",
       "      <td>Arica y Parinacota</td>\n",
       "      <td>15</td>\n",
       "      <td>15202.0</td>\n",
       "      <td>General Lagos</td>\n",
       "      <td>810.0</td>\n",
       "    </tr>\n",
       "    <tr>\n",
       "      <th>3</th>\n",
       "      <td>Arica y Parinacota</td>\n",
       "      <td>15</td>\n",
       "      <td>15201.0</td>\n",
       "      <td>Putre</td>\n",
       "      <td>2515.0</td>\n",
       "    </tr>\n",
       "    <tr>\n",
       "      <th>4</th>\n",
       "      <td>Arica y Parinacota</td>\n",
       "      <td>15</td>\n",
       "      <td>NaN</td>\n",
       "      <td>Desconocido Arica y Parinacota</td>\n",
       "      <td>NaN</td>\n",
       "    </tr>\n",
       "  </tbody>\n",
       "</table>\n",
       "</div>"
      ],
      "text/plain": [
       "               Region  Codigo region  Codigo comuna  \\\n",
       "0  Arica y Parinacota             15        15101.0   \n",
       "1  Arica y Parinacota             15        15102.0   \n",
       "2  Arica y Parinacota             15        15202.0   \n",
       "3  Arica y Parinacota             15        15201.0   \n",
       "4  Arica y Parinacota             15            NaN   \n",
       "\n",
       "                           Comuna  Poblacion  \n",
       "0                           Arica   247552.0  \n",
       "1                       Camarones     1233.0  \n",
       "2                   General Lagos      810.0  \n",
       "3                           Putre     2515.0  \n",
       "4  Desconocido Arica y Parinacota        NaN  "
      ]
     },
     "execution_count": 368,
     "metadata": {},
     "output_type": "execute_result"
    }
   ],
   "source": [
    "df22.head()"
   ]
  },
  {
   "cell_type": "code",
   "execution_count": 369,
   "id": "f140effa",
   "metadata": {},
   "outputs": [],
   "source": [
    "df22=df22.dropna()\n",
    "##elimino los nan del segundo df"
   ]
  },
  {
   "cell_type": "code",
   "execution_count": 370,
   "id": "e22e46f8-4e86-4e98-b0ea-b81b19dce1a3",
   "metadata": {},
   "outputs": [
    {
     "name": "stdout",
     "output_type": "stream",
     "text": [
      "<class 'pandas.core.frame.DataFrame'>\n",
      "Int64Index: 346 entries, 0 to 360\n",
      "Data columns (total 5 columns):\n",
      " #   Column         Non-Null Count  Dtype  \n",
      "---  ------         --------------  -----  \n",
      " 0   Region         346 non-null    object \n",
      " 1   Codigo region  346 non-null    int64  \n",
      " 2   Codigo comuna  346 non-null    float64\n",
      " 3   Comuna         346 non-null    object \n",
      " 4   Poblacion      346 non-null    float64\n",
      "dtypes: float64(2), int64(1), object(2)\n",
      "memory usage: 16.2+ KB\n"
     ]
    }
   ],
   "source": [
    "df22.info()"
   ]
  },
  {
   "cell_type": "code",
   "execution_count": 371,
   "id": "3b40c032",
   "metadata": {
    "scrolled": true
   },
   "outputs": [],
   "source": [
    "df22['Poblacion']=df22['Poblacion'].astype(int)\n",
    "df22['Codigo comuna']=df22['Codigo comuna'].astype(int)\n",
    "##cambio los códigos de comuna del 2do df a int para que sean iguales a los del df1 y poder combinas ambos df, de esta manera tener un único df donde se encuentren las cuarentenas y además las poblaciones de c/ comuna"
   ]
  },
  {
   "cell_type": "code",
   "execution_count": 372,
   "id": "e62ec844-5290-4b14-b421-0bf5ca1a2593",
   "metadata": {},
   "outputs": [
    {
     "name": "stdout",
     "output_type": "stream",
     "text": [
      "<class 'pandas.core.frame.DataFrame'>\n",
      "Int64Index: 346 entries, 0 to 360\n",
      "Data columns (total 5 columns):\n",
      " #   Column         Non-Null Count  Dtype \n",
      "---  ------         --------------  ----- \n",
      " 0   Region         346 non-null    object\n",
      " 1   Codigo region  346 non-null    int64 \n",
      " 2   Codigo comuna  346 non-null    int32 \n",
      " 3   Comuna         346 non-null    object\n",
      " 4   Poblacion      346 non-null    int32 \n",
      "dtypes: int32(2), int64(1), object(2)\n",
      "memory usage: 13.5+ KB\n"
     ]
    }
   ],
   "source": [
    "df22.info()"
   ]
  },
  {
   "cell_type": "code",
   "execution_count": 373,
   "id": "82105efd",
   "metadata": {},
   "outputs": [
    {
     "data": {
      "text/html": [
       "<div>\n",
       "<style scoped>\n",
       "    .dataframe tbody tr th:only-of-type {\n",
       "        vertical-align: middle;\n",
       "    }\n",
       "\n",
       "    .dataframe tbody tr th {\n",
       "        vertical-align: top;\n",
       "    }\n",
       "\n",
       "    .dataframe thead th {\n",
       "        text-align: right;\n",
       "    }\n",
       "</style>\n",
       "<table border=\"1\" class=\"dataframe\">\n",
       "  <thead>\n",
       "    <tr style=\"text-align: right;\">\n",
       "      <th></th>\n",
       "      <th>codigo_region</th>\n",
       "      <th>region_residencia</th>\n",
       "      <th>codigo_comuna</th>\n",
       "      <th>comuna_residencia</th>\n",
       "      <th>zona</th>\n",
       "      <th>2020-07-28</th>\n",
       "      <th>2020-07-29</th>\n",
       "      <th>2020-07-30</th>\n",
       "      <th>2020-07-31</th>\n",
       "      <th>2020-08-01</th>\n",
       "      <th>...</th>\n",
       "      <th>2021-11-22</th>\n",
       "      <th>2021-11-23</th>\n",
       "      <th>2021-11-24</th>\n",
       "      <th>2021-11-25</th>\n",
       "      <th>2021-11-26</th>\n",
       "      <th>2021-11-27</th>\n",
       "      <th>2021-11-28</th>\n",
       "      <th>2021-11-29</th>\n",
       "      <th>2021-11-30</th>\n",
       "      <th>2021-12-01</th>\n",
       "    </tr>\n",
       "  </thead>\n",
       "  <tbody>\n",
       "    <tr>\n",
       "      <th>0</th>\n",
       "      <td>15</td>\n",
       "      <td>Arica y Parinacota</td>\n",
       "      <td>15101</td>\n",
       "      <td>Arica</td>\n",
       "      <td>Rural</td>\n",
       "      <td>3</td>\n",
       "      <td>3</td>\n",
       "      <td>3</td>\n",
       "      <td>3</td>\n",
       "      <td>3</td>\n",
       "      <td>...</td>\n",
       "      <td>3</td>\n",
       "      <td>3</td>\n",
       "      <td>3</td>\n",
       "      <td>3</td>\n",
       "      <td>3</td>\n",
       "      <td>4</td>\n",
       "      <td>4</td>\n",
       "      <td>4</td>\n",
       "      <td>4</td>\n",
       "      <td>4</td>\n",
       "    </tr>\n",
       "    <tr>\n",
       "      <th>1</th>\n",
       "      <td>15</td>\n",
       "      <td>Arica y Parinacota</td>\n",
       "      <td>15101</td>\n",
       "      <td>Arica</td>\n",
       "      <td>Urbana</td>\n",
       "      <td>1</td>\n",
       "      <td>1</td>\n",
       "      <td>1</td>\n",
       "      <td>1</td>\n",
       "      <td>1</td>\n",
       "      <td>...</td>\n",
       "      <td>3</td>\n",
       "      <td>3</td>\n",
       "      <td>3</td>\n",
       "      <td>3</td>\n",
       "      <td>3</td>\n",
       "      <td>4</td>\n",
       "      <td>4</td>\n",
       "      <td>4</td>\n",
       "      <td>4</td>\n",
       "      <td>4</td>\n",
       "    </tr>\n",
       "    <tr>\n",
       "      <th>2</th>\n",
       "      <td>15</td>\n",
       "      <td>Arica y Parinacota</td>\n",
       "      <td>15102</td>\n",
       "      <td>Camarones</td>\n",
       "      <td>Total</td>\n",
       "      <td>3</td>\n",
       "      <td>3</td>\n",
       "      <td>3</td>\n",
       "      <td>3</td>\n",
       "      <td>3</td>\n",
       "      <td>...</td>\n",
       "      <td>4</td>\n",
       "      <td>4</td>\n",
       "      <td>4</td>\n",
       "      <td>4</td>\n",
       "      <td>4</td>\n",
       "      <td>4</td>\n",
       "      <td>4</td>\n",
       "      <td>4</td>\n",
       "      <td>4</td>\n",
       "      <td>4</td>\n",
       "    </tr>\n",
       "    <tr>\n",
       "      <th>3</th>\n",
       "      <td>15</td>\n",
       "      <td>Arica y Parinacota</td>\n",
       "      <td>15202</td>\n",
       "      <td>General Lagos</td>\n",
       "      <td>Total</td>\n",
       "      <td>3</td>\n",
       "      <td>3</td>\n",
       "      <td>3</td>\n",
       "      <td>3</td>\n",
       "      <td>3</td>\n",
       "      <td>...</td>\n",
       "      <td>4</td>\n",
       "      <td>4</td>\n",
       "      <td>4</td>\n",
       "      <td>4</td>\n",
       "      <td>4</td>\n",
       "      <td>4</td>\n",
       "      <td>4</td>\n",
       "      <td>4</td>\n",
       "      <td>4</td>\n",
       "      <td>4</td>\n",
       "    </tr>\n",
       "    <tr>\n",
       "      <th>4</th>\n",
       "      <td>15</td>\n",
       "      <td>Arica y Parinacota</td>\n",
       "      <td>15201</td>\n",
       "      <td>Putre</td>\n",
       "      <td>Total</td>\n",
       "      <td>3</td>\n",
       "      <td>3</td>\n",
       "      <td>3</td>\n",
       "      <td>3</td>\n",
       "      <td>3</td>\n",
       "      <td>...</td>\n",
       "      <td>4</td>\n",
       "      <td>4</td>\n",
       "      <td>4</td>\n",
       "      <td>4</td>\n",
       "      <td>4</td>\n",
       "      <td>4</td>\n",
       "      <td>4</td>\n",
       "      <td>4</td>\n",
       "      <td>4</td>\n",
       "      <td>4</td>\n",
       "    </tr>\n",
       "  </tbody>\n",
       "</table>\n",
       "<p>5 rows × 497 columns</p>\n",
       "</div>"
      ],
      "text/plain": [
       "   codigo_region   region_residencia  codigo_comuna comuna_residencia    zona  \\\n",
       "0             15  Arica y Parinacota          15101             Arica   Rural   \n",
       "1             15  Arica y Parinacota          15101             Arica  Urbana   \n",
       "2             15  Arica y Parinacota          15102         Camarones   Total   \n",
       "3             15  Arica y Parinacota          15202     General Lagos   Total   \n",
       "4             15  Arica y Parinacota          15201             Putre   Total   \n",
       "\n",
       "   2020-07-28  2020-07-29  2020-07-30  2020-07-31  2020-08-01  ...  \\\n",
       "0           3           3           3           3           3  ...   \n",
       "1           1           1           1           1           1  ...   \n",
       "2           3           3           3           3           3  ...   \n",
       "3           3           3           3           3           3  ...   \n",
       "4           3           3           3           3           3  ...   \n",
       "\n",
       "   2021-11-22  2021-11-23  2021-11-24  2021-11-25  2021-11-26  2021-11-27  \\\n",
       "0           3           3           3           3           3           4   \n",
       "1           3           3           3           3           3           4   \n",
       "2           4           4           4           4           4           4   \n",
       "3           4           4           4           4           4           4   \n",
       "4           4           4           4           4           4           4   \n",
       "\n",
       "   2021-11-28  2021-11-29  2021-11-30  2021-12-01  \n",
       "0           4           4           4           4  \n",
       "1           4           4           4           4  \n",
       "2           4           4           4           4  \n",
       "3           4           4           4           4  \n",
       "4           4           4           4           4  \n",
       "\n",
       "[5 rows x 497 columns]"
      ]
     },
     "execution_count": 373,
     "metadata": {},
     "output_type": "execute_result"
    }
   ],
   "source": [
    "df.head()"
   ]
  },
  {
   "cell_type": "code",
   "execution_count": 374,
   "id": "149033a6",
   "metadata": {},
   "outputs": [
    {
     "data": {
      "text/html": [
       "<div>\n",
       "<style scoped>\n",
       "    .dataframe tbody tr th:only-of-type {\n",
       "        vertical-align: middle;\n",
       "    }\n",
       "\n",
       "    .dataframe tbody tr th {\n",
       "        vertical-align: top;\n",
       "    }\n",
       "\n",
       "    .dataframe thead th {\n",
       "        text-align: right;\n",
       "    }\n",
       "</style>\n",
       "<table border=\"1\" class=\"dataframe\">\n",
       "  <thead>\n",
       "    <tr style=\"text-align: right;\">\n",
       "      <th></th>\n",
       "      <th>Region</th>\n",
       "      <th>Codigo region</th>\n",
       "      <th>Codigo comuna</th>\n",
       "      <th>Comuna</th>\n",
       "      <th>Poblacion</th>\n",
       "    </tr>\n",
       "  </thead>\n",
       "  <tbody>\n",
       "    <tr>\n",
       "      <th>0</th>\n",
       "      <td>Arica y Parinacota</td>\n",
       "      <td>15</td>\n",
       "      <td>15101</td>\n",
       "      <td>Arica</td>\n",
       "      <td>247552</td>\n",
       "    </tr>\n",
       "    <tr>\n",
       "      <th>1</th>\n",
       "      <td>Arica y Parinacota</td>\n",
       "      <td>15</td>\n",
       "      <td>15102</td>\n",
       "      <td>Camarones</td>\n",
       "      <td>1233</td>\n",
       "    </tr>\n",
       "    <tr>\n",
       "      <th>2</th>\n",
       "      <td>Arica y Parinacota</td>\n",
       "      <td>15</td>\n",
       "      <td>15202</td>\n",
       "      <td>General Lagos</td>\n",
       "      <td>810</td>\n",
       "    </tr>\n",
       "    <tr>\n",
       "      <th>3</th>\n",
       "      <td>Arica y Parinacota</td>\n",
       "      <td>15</td>\n",
       "      <td>15201</td>\n",
       "      <td>Putre</td>\n",
       "      <td>2515</td>\n",
       "    </tr>\n",
       "    <tr>\n",
       "      <th>5</th>\n",
       "      <td>Tarapacá</td>\n",
       "      <td>1</td>\n",
       "      <td>1107</td>\n",
       "      <td>Alto Hospicio</td>\n",
       "      <td>129999</td>\n",
       "    </tr>\n",
       "  </tbody>\n",
       "</table>\n",
       "</div>"
      ],
      "text/plain": [
       "               Region  Codigo region  Codigo comuna         Comuna  Poblacion\n",
       "0  Arica y Parinacota             15          15101          Arica     247552\n",
       "1  Arica y Parinacota             15          15102      Camarones       1233\n",
       "2  Arica y Parinacota             15          15202  General Lagos        810\n",
       "3  Arica y Parinacota             15          15201          Putre       2515\n",
       "5            Tarapacá              1           1107  Alto Hospicio     129999"
      ]
     },
     "execution_count": 374,
     "metadata": {},
     "output_type": "execute_result"
    }
   ],
   "source": [
    "df22.head()"
   ]
  },
  {
   "cell_type": "code",
   "execution_count": 375,
   "id": "e265debb",
   "metadata": {},
   "outputs": [],
   "source": [
    "df=df.rename(columns={'codigo_comuna':'Codigo comuna'})\n",
    "##cambio nombre columna de código comuna en df1 (cuarentenas) para que tenga el mismo nombre que la columna del segundo df y de esta manera poder combinarlas "
   ]
  },
  {
   "cell_type": "code",
   "execution_count": 376,
   "id": "3359ed84-46a3-43de-b999-5a9866035e87",
   "metadata": {},
   "outputs": [
    {
     "data": {
      "text/html": [
       "<div>\n",
       "<style scoped>\n",
       "    .dataframe tbody tr th:only-of-type {\n",
       "        vertical-align: middle;\n",
       "    }\n",
       "\n",
       "    .dataframe tbody tr th {\n",
       "        vertical-align: top;\n",
       "    }\n",
       "\n",
       "    .dataframe thead th {\n",
       "        text-align: right;\n",
       "    }\n",
       "</style>\n",
       "<table border=\"1\" class=\"dataframe\">\n",
       "  <thead>\n",
       "    <tr style=\"text-align: right;\">\n",
       "      <th></th>\n",
       "      <th>codigo_region</th>\n",
       "      <th>region_residencia</th>\n",
       "      <th>Codigo comuna</th>\n",
       "      <th>comuna_residencia</th>\n",
       "      <th>zona</th>\n",
       "      <th>2020-07-28</th>\n",
       "      <th>2020-07-29</th>\n",
       "      <th>2020-07-30</th>\n",
       "      <th>2020-07-31</th>\n",
       "      <th>2020-08-01</th>\n",
       "      <th>...</th>\n",
       "      <th>2021-11-22</th>\n",
       "      <th>2021-11-23</th>\n",
       "      <th>2021-11-24</th>\n",
       "      <th>2021-11-25</th>\n",
       "      <th>2021-11-26</th>\n",
       "      <th>2021-11-27</th>\n",
       "      <th>2021-11-28</th>\n",
       "      <th>2021-11-29</th>\n",
       "      <th>2021-11-30</th>\n",
       "      <th>2021-12-01</th>\n",
       "    </tr>\n",
       "  </thead>\n",
       "  <tbody>\n",
       "    <tr>\n",
       "      <th>383</th>\n",
       "      <td>12</td>\n",
       "      <td>Magallanes</td>\n",
       "      <td>12101</td>\n",
       "      <td>Punta Arenas</td>\n",
       "      <td>Total</td>\n",
       "      <td>3</td>\n",
       "      <td>3</td>\n",
       "      <td>3</td>\n",
       "      <td>3</td>\n",
       "      <td>3</td>\n",
       "      <td>...</td>\n",
       "      <td>4</td>\n",
       "      <td>4</td>\n",
       "      <td>4</td>\n",
       "      <td>4</td>\n",
       "      <td>4</td>\n",
       "      <td>4</td>\n",
       "      <td>4</td>\n",
       "      <td>4</td>\n",
       "      <td>4</td>\n",
       "      <td>4</td>\n",
       "    </tr>\n",
       "    <tr>\n",
       "      <th>384</th>\n",
       "      <td>12</td>\n",
       "      <td>Magallanes</td>\n",
       "      <td>12103</td>\n",
       "      <td>Río Verde</td>\n",
       "      <td>Total</td>\n",
       "      <td>3</td>\n",
       "      <td>3</td>\n",
       "      <td>3</td>\n",
       "      <td>3</td>\n",
       "      <td>3</td>\n",
       "      <td>...</td>\n",
       "      <td>4</td>\n",
       "      <td>4</td>\n",
       "      <td>4</td>\n",
       "      <td>4</td>\n",
       "      <td>4</td>\n",
       "      <td>4</td>\n",
       "      <td>4</td>\n",
       "      <td>4</td>\n",
       "      <td>4</td>\n",
       "      <td>4</td>\n",
       "    </tr>\n",
       "    <tr>\n",
       "      <th>385</th>\n",
       "      <td>12</td>\n",
       "      <td>Magallanes</td>\n",
       "      <td>12104</td>\n",
       "      <td>San Gregorio</td>\n",
       "      <td>Total</td>\n",
       "      <td>3</td>\n",
       "      <td>3</td>\n",
       "      <td>3</td>\n",
       "      <td>3</td>\n",
       "      <td>3</td>\n",
       "      <td>...</td>\n",
       "      <td>4</td>\n",
       "      <td>4</td>\n",
       "      <td>4</td>\n",
       "      <td>4</td>\n",
       "      <td>4</td>\n",
       "      <td>4</td>\n",
       "      <td>4</td>\n",
       "      <td>4</td>\n",
       "      <td>4</td>\n",
       "      <td>4</td>\n",
       "    </tr>\n",
       "    <tr>\n",
       "      <th>386</th>\n",
       "      <td>12</td>\n",
       "      <td>Magallanes</td>\n",
       "      <td>12303</td>\n",
       "      <td>Timaukel</td>\n",
       "      <td>Total</td>\n",
       "      <td>3</td>\n",
       "      <td>3</td>\n",
       "      <td>3</td>\n",
       "      <td>3</td>\n",
       "      <td>3</td>\n",
       "      <td>...</td>\n",
       "      <td>4</td>\n",
       "      <td>4</td>\n",
       "      <td>4</td>\n",
       "      <td>4</td>\n",
       "      <td>4</td>\n",
       "      <td>4</td>\n",
       "      <td>4</td>\n",
       "      <td>4</td>\n",
       "      <td>4</td>\n",
       "      <td>4</td>\n",
       "    </tr>\n",
       "    <tr>\n",
       "      <th>387</th>\n",
       "      <td>12</td>\n",
       "      <td>Magallanes</td>\n",
       "      <td>12402</td>\n",
       "      <td>Torres del Paine</td>\n",
       "      <td>Total</td>\n",
       "      <td>3</td>\n",
       "      <td>3</td>\n",
       "      <td>3</td>\n",
       "      <td>3</td>\n",
       "      <td>3</td>\n",
       "      <td>...</td>\n",
       "      <td>4</td>\n",
       "      <td>4</td>\n",
       "      <td>4</td>\n",
       "      <td>4</td>\n",
       "      <td>4</td>\n",
       "      <td>4</td>\n",
       "      <td>4</td>\n",
       "      <td>4</td>\n",
       "      <td>4</td>\n",
       "      <td>4</td>\n",
       "    </tr>\n",
       "  </tbody>\n",
       "</table>\n",
       "<p>5 rows × 497 columns</p>\n",
       "</div>"
      ],
      "text/plain": [
       "     codigo_region region_residencia  Codigo comuna comuna_residencia   zona  \\\n",
       "383             12        Magallanes          12101      Punta Arenas  Total   \n",
       "384             12        Magallanes          12103         Río Verde  Total   \n",
       "385             12        Magallanes          12104      San Gregorio  Total   \n",
       "386             12        Magallanes          12303          Timaukel  Total   \n",
       "387             12        Magallanes          12402  Torres del Paine  Total   \n",
       "\n",
       "     2020-07-28  2020-07-29  2020-07-30  2020-07-31  2020-08-01  ...  \\\n",
       "383           3           3           3           3           3  ...   \n",
       "384           3           3           3           3           3  ...   \n",
       "385           3           3           3           3           3  ...   \n",
       "386           3           3           3           3           3  ...   \n",
       "387           3           3           3           3           3  ...   \n",
       "\n",
       "     2021-11-22  2021-11-23  2021-11-24  2021-11-25  2021-11-26  2021-11-27  \\\n",
       "383           4           4           4           4           4           4   \n",
       "384           4           4           4           4           4           4   \n",
       "385           4           4           4           4           4           4   \n",
       "386           4           4           4           4           4           4   \n",
       "387           4           4           4           4           4           4   \n",
       "\n",
       "     2021-11-28  2021-11-29  2021-11-30  2021-12-01  \n",
       "383           4           4           4           4  \n",
       "384           4           4           4           4  \n",
       "385           4           4           4           4  \n",
       "386           4           4           4           4  \n",
       "387           4           4           4           4  \n",
       "\n",
       "[5 rows x 497 columns]"
      ]
     },
     "execution_count": 376,
     "metadata": {},
     "output_type": "execute_result"
    }
   ],
   "source": [
    "df.tail()"
   ]
  },
  {
   "cell_type": "code",
   "execution_count": 377,
   "id": "117a1bb7",
   "metadata": {},
   "outputs": [
    {
     "ename": "SyntaxError",
     "evalue": "invalid syntax (<ipython-input-377-8fcd5e1abdaf>, line 1)",
     "output_type": "error",
     "traceback": [
      "\u001b[1;36m  File \u001b[1;32m\"<ipython-input-377-8fcd5e1abdaf>\"\u001b[1;36m, line \u001b[1;32m1\u001b[0m\n\u001b[1;33m    mix=df.merge[(df22, on='Codigo comuna')\u001b[0m\n\u001b[1;37m                          ^\u001b[0m\n\u001b[1;31mSyntaxError\u001b[0m\u001b[1;31m:\u001b[0m invalid syntax\n"
     ]
    }
   ],
   "source": [
    "mix=df.merge[(df22, on='Codigo comuna')\n",
    "##cambinación de ambos dataframes, usando como columna común el código de comuna"
   ]
  },
  {
   "cell_type": "code",
   "execution_count": 378,
   "id": "126c0d74",
   "metadata": {},
   "outputs": [
    {
     "data": {
      "text/html": [
       "<div>\n",
       "<style scoped>\n",
       "    .dataframe tbody tr th:only-of-type {\n",
       "        vertical-align: middle;\n",
       "    }\n",
       "\n",
       "    .dataframe tbody tr th {\n",
       "        vertical-align: top;\n",
       "    }\n",
       "\n",
       "    .dataframe thead th {\n",
       "        text-align: right;\n",
       "    }\n",
       "</style>\n",
       "<table border=\"1\" class=\"dataframe\">\n",
       "  <thead>\n",
       "    <tr style=\"text-align: right;\">\n",
       "      <th></th>\n",
       "      <th>codigo_region</th>\n",
       "      <th>region_residencia</th>\n",
       "      <th>Codigo comuna</th>\n",
       "      <th>comuna_residencia</th>\n",
       "      <th>zona</th>\n",
       "      <th>2020-07-28</th>\n",
       "      <th>2020-07-29</th>\n",
       "      <th>2020-07-30</th>\n",
       "      <th>2020-07-31</th>\n",
       "      <th>2020-08-01</th>\n",
       "      <th>...</th>\n",
       "      <th>2021-11-26</th>\n",
       "      <th>2021-11-27</th>\n",
       "      <th>2021-11-28</th>\n",
       "      <th>2021-11-29</th>\n",
       "      <th>2021-11-30</th>\n",
       "      <th>2021-12-01</th>\n",
       "      <th>Region</th>\n",
       "      <th>Codigo region</th>\n",
       "      <th>Comuna</th>\n",
       "      <th>Poblacion</th>\n",
       "    </tr>\n",
       "  </thead>\n",
       "  <tbody>\n",
       "    <tr>\n",
       "      <th>0</th>\n",
       "      <td>15</td>\n",
       "      <td>Arica y Parinacota</td>\n",
       "      <td>15101</td>\n",
       "      <td>Arica</td>\n",
       "      <td>Rural</td>\n",
       "      <td>3</td>\n",
       "      <td>3</td>\n",
       "      <td>3</td>\n",
       "      <td>3</td>\n",
       "      <td>3</td>\n",
       "      <td>...</td>\n",
       "      <td>3</td>\n",
       "      <td>4</td>\n",
       "      <td>4</td>\n",
       "      <td>4</td>\n",
       "      <td>4</td>\n",
       "      <td>4</td>\n",
       "      <td>Arica y Parinacota</td>\n",
       "      <td>15</td>\n",
       "      <td>Arica</td>\n",
       "      <td>247552</td>\n",
       "    </tr>\n",
       "    <tr>\n",
       "      <th>1</th>\n",
       "      <td>15</td>\n",
       "      <td>Arica y Parinacota</td>\n",
       "      <td>15101</td>\n",
       "      <td>Arica</td>\n",
       "      <td>Urbana</td>\n",
       "      <td>1</td>\n",
       "      <td>1</td>\n",
       "      <td>1</td>\n",
       "      <td>1</td>\n",
       "      <td>1</td>\n",
       "      <td>...</td>\n",
       "      <td>3</td>\n",
       "      <td>4</td>\n",
       "      <td>4</td>\n",
       "      <td>4</td>\n",
       "      <td>4</td>\n",
       "      <td>4</td>\n",
       "      <td>Arica y Parinacota</td>\n",
       "      <td>15</td>\n",
       "      <td>Arica</td>\n",
       "      <td>247552</td>\n",
       "    </tr>\n",
       "    <tr>\n",
       "      <th>2</th>\n",
       "      <td>15</td>\n",
       "      <td>Arica y Parinacota</td>\n",
       "      <td>15102</td>\n",
       "      <td>Camarones</td>\n",
       "      <td>Total</td>\n",
       "      <td>3</td>\n",
       "      <td>3</td>\n",
       "      <td>3</td>\n",
       "      <td>3</td>\n",
       "      <td>3</td>\n",
       "      <td>...</td>\n",
       "      <td>4</td>\n",
       "      <td>4</td>\n",
       "      <td>4</td>\n",
       "      <td>4</td>\n",
       "      <td>4</td>\n",
       "      <td>4</td>\n",
       "      <td>Arica y Parinacota</td>\n",
       "      <td>15</td>\n",
       "      <td>Camarones</td>\n",
       "      <td>1233</td>\n",
       "    </tr>\n",
       "    <tr>\n",
       "      <th>3</th>\n",
       "      <td>15</td>\n",
       "      <td>Arica y Parinacota</td>\n",
       "      <td>15202</td>\n",
       "      <td>General Lagos</td>\n",
       "      <td>Total</td>\n",
       "      <td>3</td>\n",
       "      <td>3</td>\n",
       "      <td>3</td>\n",
       "      <td>3</td>\n",
       "      <td>3</td>\n",
       "      <td>...</td>\n",
       "      <td>4</td>\n",
       "      <td>4</td>\n",
       "      <td>4</td>\n",
       "      <td>4</td>\n",
       "      <td>4</td>\n",
       "      <td>4</td>\n",
       "      <td>Arica y Parinacota</td>\n",
       "      <td>15</td>\n",
       "      <td>General Lagos</td>\n",
       "      <td>810</td>\n",
       "    </tr>\n",
       "    <tr>\n",
       "      <th>4</th>\n",
       "      <td>15</td>\n",
       "      <td>Arica y Parinacota</td>\n",
       "      <td>15201</td>\n",
       "      <td>Putre</td>\n",
       "      <td>Total</td>\n",
       "      <td>3</td>\n",
       "      <td>3</td>\n",
       "      <td>3</td>\n",
       "      <td>3</td>\n",
       "      <td>3</td>\n",
       "      <td>...</td>\n",
       "      <td>4</td>\n",
       "      <td>4</td>\n",
       "      <td>4</td>\n",
       "      <td>4</td>\n",
       "      <td>4</td>\n",
       "      <td>4</td>\n",
       "      <td>Arica y Parinacota</td>\n",
       "      <td>15</td>\n",
       "      <td>Putre</td>\n",
       "      <td>2515</td>\n",
       "    </tr>\n",
       "  </tbody>\n",
       "</table>\n",
       "<p>5 rows × 501 columns</p>\n",
       "</div>"
      ],
      "text/plain": [
       "   codigo_region   region_residencia  Codigo comuna comuna_residencia    zona  \\\n",
       "0             15  Arica y Parinacota          15101             Arica   Rural   \n",
       "1             15  Arica y Parinacota          15101             Arica  Urbana   \n",
       "2             15  Arica y Parinacota          15102         Camarones   Total   \n",
       "3             15  Arica y Parinacota          15202     General Lagos   Total   \n",
       "4             15  Arica y Parinacota          15201             Putre   Total   \n",
       "\n",
       "   2020-07-28  2020-07-29  2020-07-30  2020-07-31  2020-08-01  ...  \\\n",
       "0           3           3           3           3           3  ...   \n",
       "1           1           1           1           1           1  ...   \n",
       "2           3           3           3           3           3  ...   \n",
       "3           3           3           3           3           3  ...   \n",
       "4           3           3           3           3           3  ...   \n",
       "\n",
       "   2021-11-26  2021-11-27  2021-11-28  2021-11-29  2021-11-30  2021-12-01  \\\n",
       "0           3           4           4           4           4           4   \n",
       "1           3           4           4           4           4           4   \n",
       "2           4           4           4           4           4           4   \n",
       "3           4           4           4           4           4           4   \n",
       "4           4           4           4           4           4           4   \n",
       "\n",
       "               Region  Codigo region         Comuna  Poblacion  \n",
       "0  Arica y Parinacota             15          Arica     247552  \n",
       "1  Arica y Parinacota             15          Arica     247552  \n",
       "2  Arica y Parinacota             15      Camarones       1233  \n",
       "3  Arica y Parinacota             15  General Lagos        810  \n",
       "4  Arica y Parinacota             15          Putre       2515  \n",
       "\n",
       "[5 rows x 501 columns]"
      ]
     },
     "execution_count": 378,
     "metadata": {},
     "output_type": "execute_result"
    }
   ],
   "source": [
    "mix.head()"
   ]
  },
  {
   "cell_type": "code",
   "execution_count": 379,
   "id": "e31c413b-f849-4f5f-8809-558591f5551e",
   "metadata": {},
   "outputs": [],
   "source": [
    "datos=mix.melt(id_vars=[\"codigo_region\",\"region_residencia\",\"Codigo comuna\",\"comuna_residencia\",\"Poblacion\"], var_name=\"fecha\", value_name=\"paso\")\n"
   ]
  },
  {
   "cell_type": "code",
   "execution_count": 380,
   "id": "d3a98437-4292-49e2-b054-e9bdca962b58",
   "metadata": {},
   "outputs": [
    {
     "data": {
      "text/html": [
       "<div>\n",
       "<style scoped>\n",
       "    .dataframe tbody tr th:only-of-type {\n",
       "        vertical-align: middle;\n",
       "    }\n",
       "\n",
       "    .dataframe tbody tr th {\n",
       "        vertical-align: top;\n",
       "    }\n",
       "\n",
       "    .dataframe thead th {\n",
       "        text-align: right;\n",
       "    }\n",
       "</style>\n",
       "<table border=\"1\" class=\"dataframe\">\n",
       "  <thead>\n",
       "    <tr style=\"text-align: right;\">\n",
       "      <th></th>\n",
       "      <th>codigo_region</th>\n",
       "      <th>region_residencia</th>\n",
       "      <th>Codigo comuna</th>\n",
       "      <th>comuna_residencia</th>\n",
       "      <th>Poblacion</th>\n",
       "      <th>fecha</th>\n",
       "      <th>paso</th>\n",
       "    </tr>\n",
       "  </thead>\n",
       "  <tbody>\n",
       "    <tr>\n",
       "      <th>0</th>\n",
       "      <td>15</td>\n",
       "      <td>Arica y Parinacota</td>\n",
       "      <td>15101</td>\n",
       "      <td>Arica</td>\n",
       "      <td>247552</td>\n",
       "      <td>zona</td>\n",
       "      <td>Rural</td>\n",
       "    </tr>\n",
       "    <tr>\n",
       "      <th>1</th>\n",
       "      <td>15</td>\n",
       "      <td>Arica y Parinacota</td>\n",
       "      <td>15101</td>\n",
       "      <td>Arica</td>\n",
       "      <td>247552</td>\n",
       "      <td>zona</td>\n",
       "      <td>Urbana</td>\n",
       "    </tr>\n",
       "    <tr>\n",
       "      <th>2</th>\n",
       "      <td>15</td>\n",
       "      <td>Arica y Parinacota</td>\n",
       "      <td>15102</td>\n",
       "      <td>Camarones</td>\n",
       "      <td>1233</td>\n",
       "      <td>zona</td>\n",
       "      <td>Total</td>\n",
       "    </tr>\n",
       "    <tr>\n",
       "      <th>3</th>\n",
       "      <td>15</td>\n",
       "      <td>Arica y Parinacota</td>\n",
       "      <td>15202</td>\n",
       "      <td>General Lagos</td>\n",
       "      <td>810</td>\n",
       "      <td>zona</td>\n",
       "      <td>Total</td>\n",
       "    </tr>\n",
       "    <tr>\n",
       "      <th>4</th>\n",
       "      <td>15</td>\n",
       "      <td>Arica y Parinacota</td>\n",
       "      <td>15201</td>\n",
       "      <td>Putre</td>\n",
       "      <td>2515</td>\n",
       "      <td>zona</td>\n",
       "      <td>Total</td>\n",
       "    </tr>\n",
       "  </tbody>\n",
       "</table>\n",
       "</div>"
      ],
      "text/plain": [
       "   codigo_region   region_residencia  Codigo comuna comuna_residencia  \\\n",
       "0             15  Arica y Parinacota          15101             Arica   \n",
       "1             15  Arica y Parinacota          15101             Arica   \n",
       "2             15  Arica y Parinacota          15102         Camarones   \n",
       "3             15  Arica y Parinacota          15202     General Lagos   \n",
       "4             15  Arica y Parinacota          15201             Putre   \n",
       "\n",
       "   Poblacion fecha    paso  \n",
       "0     247552  zona   Rural  \n",
       "1     247552  zona  Urbana  \n",
       "2       1233  zona   Total  \n",
       "3        810  zona   Total  \n",
       "4       2515  zona   Total  "
      ]
     },
     "execution_count": 380,
     "metadata": {},
     "output_type": "execute_result"
    }
   ],
   "source": [
    "datos.head()"
   ]
  },
  {
   "cell_type": "code",
   "execution_count": 381,
   "id": "ad6e4aec-d784-4a1a-a7e0-3a262cf61bf7",
   "metadata": {},
   "outputs": [
    {
     "name": "stderr",
     "output_type": "stream",
     "text": [
      "<ipython-input-381-1451e3a4824a>:2: SettingWithCopyWarning: \n",
      "A value is trying to be set on a copy of a slice from a DataFrame\n",
      "\n",
      "See the caveats in the documentation: https://pandas.pydata.org/pandas-docs/stable/user_guide/indexing.html#returning-a-view-versus-a-copy\n",
      "  datos['Poblacion'][fase2] = 0\n",
      "<ipython-input-381-1451e3a4824a>:4: SettingWithCopyWarning: \n",
      "A value is trying to be set on a copy of a slice from a DataFrame\n",
      "\n",
      "See the caveats in the documentation: https://pandas.pydata.org/pandas-docs/stable/user_guide/indexing.html#returning-a-view-versus-a-copy\n",
      "  datos['Poblacion'][fase3] = 0\n",
      "<ipython-input-381-1451e3a4824a>:6: SettingWithCopyWarning: \n",
      "A value is trying to be set on a copy of a slice from a DataFrame\n",
      "\n",
      "See the caveats in the documentation: https://pandas.pydata.org/pandas-docs/stable/user_guide/indexing.html#returning-a-view-versus-a-copy\n",
      "  datos['Poblacion'][fase4] = 0\n",
      "<ipython-input-381-1451e3a4824a>:8: SettingWithCopyWarning: \n",
      "A value is trying to be set on a copy of a slice from a DataFrame\n",
      "\n",
      "See the caveats in the documentation: https://pandas.pydata.org/pandas-docs/stable/user_guide/indexing.html#returning-a-view-versus-a-copy\n",
      "  datos['Poblacion'][fase5] = 0\n"
     ]
    }
   ],
   "source": [
    "fase2 = (datos['paso'] == 2)\n",
    "datos['Poblacion'][fase2] = 0\n",
    "fase3 = (datos['paso'] == 3)\n",
    "datos['Poblacion'][fase3] = 0\n",
    "fase4 = (datos['paso'] == 4)\n",
    "datos['Poblacion'][fase4] = 0\n",
    "fase5 = (datos['paso'] == 5)\n",
    "datos['Poblacion'][fase5] = 0\n",
    "#cuando el paso no es fase 1 poner la poblacion 0 para que no se contabilice"
   ]
  },
  {
   "cell_type": "code",
   "execution_count": 382,
   "id": "fee8089b-1b1b-42bf-a7e6-0ce1849a6820",
   "metadata": {},
   "outputs": [
    {
     "data": {
      "text/html": [
       "<div>\n",
       "<style scoped>\n",
       "    .dataframe tbody tr th:only-of-type {\n",
       "        vertical-align: middle;\n",
       "    }\n",
       "\n",
       "    .dataframe tbody tr th {\n",
       "        vertical-align: top;\n",
       "    }\n",
       "\n",
       "    .dataframe thead th {\n",
       "        text-align: right;\n",
       "    }\n",
       "</style>\n",
       "<table border=\"1\" class=\"dataframe\">\n",
       "  <thead>\n",
       "    <tr style=\"text-align: right;\">\n",
       "      <th></th>\n",
       "      <th>codigo_region</th>\n",
       "      <th>region_residencia</th>\n",
       "      <th>Codigo comuna</th>\n",
       "      <th>comuna_residencia</th>\n",
       "      <th>Poblacion</th>\n",
       "      <th>fecha</th>\n",
       "      <th>paso</th>\n",
       "    </tr>\n",
       "  </thead>\n",
       "  <tbody>\n",
       "    <tr>\n",
       "      <th>0</th>\n",
       "      <td>15</td>\n",
       "      <td>Arica y Parinacota</td>\n",
       "      <td>15101</td>\n",
       "      <td>Arica</td>\n",
       "      <td>247552</td>\n",
       "      <td>zona</td>\n",
       "      <td>Rural</td>\n",
       "    </tr>\n",
       "    <tr>\n",
       "      <th>1</th>\n",
       "      <td>15</td>\n",
       "      <td>Arica y Parinacota</td>\n",
       "      <td>15101</td>\n",
       "      <td>Arica</td>\n",
       "      <td>247552</td>\n",
       "      <td>zona</td>\n",
       "      <td>Urbana</td>\n",
       "    </tr>\n",
       "    <tr>\n",
       "      <th>2</th>\n",
       "      <td>15</td>\n",
       "      <td>Arica y Parinacota</td>\n",
       "      <td>15102</td>\n",
       "      <td>Camarones</td>\n",
       "      <td>1233</td>\n",
       "      <td>zona</td>\n",
       "      <td>Total</td>\n",
       "    </tr>\n",
       "    <tr>\n",
       "      <th>3</th>\n",
       "      <td>15</td>\n",
       "      <td>Arica y Parinacota</td>\n",
       "      <td>15202</td>\n",
       "      <td>General Lagos</td>\n",
       "      <td>810</td>\n",
       "      <td>zona</td>\n",
       "      <td>Total</td>\n",
       "    </tr>\n",
       "    <tr>\n",
       "      <th>4</th>\n",
       "      <td>15</td>\n",
       "      <td>Arica y Parinacota</td>\n",
       "      <td>15201</td>\n",
       "      <td>Putre</td>\n",
       "      <td>2515</td>\n",
       "      <td>zona</td>\n",
       "      <td>Total</td>\n",
       "    </tr>\n",
       "  </tbody>\n",
       "</table>\n",
       "</div>"
      ],
      "text/plain": [
       "   codigo_region   region_residencia  Codigo comuna comuna_residencia  \\\n",
       "0             15  Arica y Parinacota          15101             Arica   \n",
       "1             15  Arica y Parinacota          15101             Arica   \n",
       "2             15  Arica y Parinacota          15102         Camarones   \n",
       "3             15  Arica y Parinacota          15202     General Lagos   \n",
       "4             15  Arica y Parinacota          15201             Putre   \n",
       "\n",
       "   Poblacion fecha    paso  \n",
       "0     247552  zona   Rural  \n",
       "1     247552  zona  Urbana  \n",
       "2       1233  zona   Total  \n",
       "3        810  zona   Total  \n",
       "4       2515  zona   Total  "
      ]
     },
     "execution_count": 382,
     "metadata": {},
     "output_type": "execute_result"
    }
   ],
   "source": [
    "datos.head()"
   ]
  },
  {
   "cell_type": "code",
   "execution_count": 383,
   "id": "43948555-dd2c-4894-a6b8-cde1a59c7c46",
   "metadata": {},
   "outputs": [],
   "source": [
    "datos=datos.sort_values(by='fecha', ascending=True)\n",
    "#para ordenar las fechas"
   ]
  },
  {
   "cell_type": "code",
   "execution_count": 384,
   "id": "1dbedea5-0356-4c72-8e86-aec13761d169",
   "metadata": {},
   "outputs": [
    {
     "data": {
      "text/html": [
       "<div>\n",
       "<style scoped>\n",
       "    .dataframe tbody tr th:only-of-type {\n",
       "        vertical-align: middle;\n",
       "    }\n",
       "\n",
       "    .dataframe tbody tr th {\n",
       "        vertical-align: top;\n",
       "    }\n",
       "\n",
       "    .dataframe thead th {\n",
       "        text-align: right;\n",
       "    }\n",
       "</style>\n",
       "<table border=\"1\" class=\"dataframe\">\n",
       "  <thead>\n",
       "    <tr style=\"text-align: right;\">\n",
       "      <th></th>\n",
       "      <th>codigo_region</th>\n",
       "      <th>region_residencia</th>\n",
       "      <th>Codigo comuna</th>\n",
       "      <th>comuna_residencia</th>\n",
       "      <th>Poblacion</th>\n",
       "      <th>fecha</th>\n",
       "      <th>paso</th>\n",
       "    </tr>\n",
       "  </thead>\n",
       "  <tbody>\n",
       "    <tr>\n",
       "      <th>775</th>\n",
       "      <td>12</td>\n",
       "      <td>Magallanes</td>\n",
       "      <td>12402</td>\n",
       "      <td>Torres del Paine</td>\n",
       "      <td>0</td>\n",
       "      <td>2020-07-28</td>\n",
       "      <td>3</td>\n",
       "    </tr>\n",
       "    <tr>\n",
       "      <th>510</th>\n",
       "      <td>13</td>\n",
       "      <td>Metropolitana</td>\n",
       "      <td>13122</td>\n",
       "      <td>Peñalolén</td>\n",
       "      <td>266798</td>\n",
       "      <td>2020-07-28</td>\n",
       "      <td>1</td>\n",
       "    </tr>\n",
       "    <tr>\n",
       "      <th>511</th>\n",
       "      <td>13</td>\n",
       "      <td>Metropolitana</td>\n",
       "      <td>13202</td>\n",
       "      <td>Pirque</td>\n",
       "      <td>0</td>\n",
       "      <td>2020-07-28</td>\n",
       "      <td>3</td>\n",
       "    </tr>\n",
       "    <tr>\n",
       "      <th>512</th>\n",
       "      <td>13</td>\n",
       "      <td>Metropolitana</td>\n",
       "      <td>13123</td>\n",
       "      <td>Providencia</td>\n",
       "      <td>157749</td>\n",
       "      <td>2020-07-28</td>\n",
       "      <td>1</td>\n",
       "    </tr>\n",
       "    <tr>\n",
       "      <th>513</th>\n",
       "      <td>13</td>\n",
       "      <td>Metropolitana</td>\n",
       "      <td>13124</td>\n",
       "      <td>Pudahuel</td>\n",
       "      <td>253139</td>\n",
       "      <td>2020-07-28</td>\n",
       "      <td>1</td>\n",
       "    </tr>\n",
       "  </tbody>\n",
       "</table>\n",
       "</div>"
      ],
      "text/plain": [
       "     codigo_region region_residencia  Codigo comuna comuna_residencia  \\\n",
       "775             12        Magallanes          12402  Torres del Paine   \n",
       "510             13     Metropolitana          13122         Peñalolén   \n",
       "511             13     Metropolitana          13202            Pirque   \n",
       "512             13     Metropolitana          13123       Providencia   \n",
       "513             13     Metropolitana          13124          Pudahuel   \n",
       "\n",
       "     Poblacion       fecha paso  \n",
       "775          0  2020-07-28    3  \n",
       "510     266798  2020-07-28    1  \n",
       "511          0  2020-07-28    3  \n",
       "512     157749  2020-07-28    1  \n",
       "513     253139  2020-07-28    1  "
      ]
     },
     "execution_count": 384,
     "metadata": {},
     "output_type": "execute_result"
    }
   ],
   "source": [
    "datos.head()"
   ]
  },
  {
   "cell_type": "code",
   "execution_count": 385,
   "id": "1477bf90-00d4-4980-bfc7-25977449a685",
   "metadata": {},
   "outputs": [
    {
     "name": "stdout",
     "output_type": "stream",
     "text": [
      "<class 'pandas.core.frame.DataFrame'>\n",
      "Int64Index: 192448 entries, 775 to 0\n",
      "Data columns (total 7 columns):\n",
      " #   Column             Non-Null Count   Dtype \n",
      "---  ------             --------------   ----- \n",
      " 0   codigo_region      192448 non-null  int64 \n",
      " 1   region_residencia  192448 non-null  object\n",
      " 2   Codigo comuna      192448 non-null  int64 \n",
      " 3   comuna_residencia  192448 non-null  object\n",
      " 4   Poblacion          192448 non-null  int32 \n",
      " 5   fecha              192448 non-null  object\n",
      " 6   paso               192448 non-null  object\n",
      "dtypes: int32(1), int64(2), object(4)\n",
      "memory usage: 11.0+ MB\n"
     ]
    }
   ],
   "source": [
    "datos.info()"
   ]
  },
  {
   "cell_type": "code",
   "execution_count": 386,
   "id": "4bf3d078-1667-41cf-9abf-bfb9d2bdd841",
   "metadata": {},
   "outputs": [],
   "source": [
    "datos1 = datos[['codigo_region','region_residencia','Codigo comuna','comuna_residencia','Poblacion','fecha','paso']]"
   ]
  },
  {
   "cell_type": "code",
   "execution_count": 387,
   "id": "107755e9-9443-47ce-80d9-f1ed7f2763a6",
   "metadata": {},
   "outputs": [],
   "source": [
    "datoschile = datos"
   ]
  },
  {
   "cell_type": "code",
   "execution_count": 388,
   "id": "c33593ed-a508-4d10-a46d-56bbdddca94f",
   "metadata": {},
   "outputs": [],
   "source": [
    "datoschile.drop('paso', axis=1, inplace=True)\n",
    "datoschile.drop('Codigo comuna', axis=1, inplace=True)\n",
    "datoschile.drop('codigo_region', axis=1, inplace=True)\n",
    "datoschile.drop('comuna_residencia', axis=1, inplace=True)\n",
    "datoschile.drop('region_residencia', axis=1, inplace=True)"
   ]
  },
  {
   "cell_type": "code",
   "execution_count": 389,
   "id": "b15b95b6-db36-4a7d-b05d-c536b456cc50",
   "metadata": {},
   "outputs": [],
   "source": [
    "datoschile=datoschile.drop_duplicates()"
   ]
  },
  {
   "cell_type": "code",
   "execution_count": 390,
   "id": "dd658d78-7e2f-4bc3-bc28-7859d8a5eca2",
   "metadata": {},
   "outputs": [],
   "source": [
    "totalchile=datoschile.groupby(['fecha']).sum() "
   ]
  },
  {
   "cell_type": "code",
   "execution_count": 391,
   "id": "1236b987-24e4-4c8b-9ab5-246620aa9435",
   "metadata": {},
   "outputs": [
    {
     "data": {
      "text/plain": [
       "<AxesSubplot:xlabel='fecha', ylabel='Poblacion'>"
      ]
     },
     "execution_count": 391,
     "metadata": {},
     "output_type": "execute_result"
    },
    {
     "data": {
      "image/png": "[encoded data removed]",
      "text/plain": [
       "<Figure size 432x288 with 1 Axes>"
      ]
     },
     "metadata": {
      "needs_background": "light"
     },
     "output_type": "display_data"
    }
   ],
   "source": [
    "sns.lineplot(x='fecha', y='Poblacion', data=totalchile)\n",
    "#grafico de total poblacion en chile en cuarentena"
   ]
  },
  {
   "cell_type": "code",
   "execution_count": 392,
   "id": "9a10ab28-ce2c-4ddd-911c-8820326acef8",
   "metadata": {},
   "outputs": [
    {
     "data": {
      "text/html": [
       "<div>\n",
       "<style scoped>\n",
       "    .dataframe tbody tr th:only-of-type {\n",
       "        vertical-align: middle;\n",
       "    }\n",
       "\n",
       "    .dataframe tbody tr th {\n",
       "        vertical-align: top;\n",
       "    }\n",
       "\n",
       "    .dataframe thead th {\n",
       "        text-align: right;\n",
       "    }\n",
       "</style>\n",
       "<table border=\"1\" class=\"dataframe\">\n",
       "  <thead>\n",
       "    <tr style=\"text-align: right;\">\n",
       "      <th></th>\n",
       "      <th>Poblacion</th>\n",
       "    </tr>\n",
       "    <tr>\n",
       "      <th>fecha</th>\n",
       "      <th></th>\n",
       "    </tr>\n",
       "  </thead>\n",
       "  <tbody>\n",
       "    <tr>\n",
       "      <th>2020-07-28</th>\n",
       "      <td>9833441</td>\n",
       "    </tr>\n",
       "    <tr>\n",
       "      <th>2020-07-29</th>\n",
       "      <td>10609230</td>\n",
       "    </tr>\n",
       "    <tr>\n",
       "      <th>2020-07-30</th>\n",
       "      <td>10609230</td>\n",
       "    </tr>\n",
       "    <tr>\n",
       "      <th>2020-07-31</th>\n",
       "      <td>10609230</td>\n",
       "    </tr>\n",
       "    <tr>\n",
       "      <th>2020-08-01</th>\n",
       "      <td>10609230</td>\n",
       "    </tr>\n",
       "  </tbody>\n",
       "</table>\n",
       "</div>"
      ],
      "text/plain": [
       "            Poblacion\n",
       "fecha                \n",
       "2020-07-28    9833441\n",
       "2020-07-29   10609230\n",
       "2020-07-30   10609230\n",
       "2020-07-31   10609230\n",
       "2020-08-01   10609230"
      ]
     },
     "execution_count": 392,
     "metadata": {},
     "output_type": "execute_result"
    }
   ],
   "source": [
    "totalchile.head()"
   ]
  },
  {
   "cell_type": "code",
   "execution_count": 393,
   "id": "b4d0af96-e7a2-4280-94a7-75be919b17b5",
   "metadata": {},
   "outputs": [
    {
     "name": "stdout",
     "output_type": "stream",
     "text": [
      "<class 'pandas.core.frame.DataFrame'>\n",
      "Index: 496 entries, 2020-07-28 to zona\n",
      "Data columns (total 1 columns):\n",
      " #   Column     Non-Null Count  Dtype\n",
      "---  ------     --------------  -----\n",
      " 0   Poblacion  496 non-null    int32\n",
      "dtypes: int32(1)\n",
      "memory usage: 22.0+ KB\n"
     ]
    }
   ],
   "source": [
    "totalchile.info()"
   ]
  },
  {
   "cell_type": "code",
   "execution_count": 394,
   "id": "ccb66521-31b5-4272-9210-3fe7f6d8a642",
   "metadata": {},
   "outputs": [
    {
     "data": {
      "text/html": [
       "<div>\n",
       "<style scoped>\n",
       "    .dataframe tbody tr th:only-of-type {\n",
       "        vertical-align: middle;\n",
       "    }\n",
       "\n",
       "    .dataframe tbody tr th {\n",
       "        vertical-align: top;\n",
       "    }\n",
       "\n",
       "    .dataframe thead th {\n",
       "        text-align: right;\n",
       "    }\n",
       "</style>\n",
       "<table border=\"1\" class=\"dataframe\">\n",
       "  <thead>\n",
       "    <tr style=\"text-align: right;\">\n",
       "      <th></th>\n",
       "      <th>Poblacion</th>\n",
       "    </tr>\n",
       "    <tr>\n",
       "      <th>fecha</th>\n",
       "      <th></th>\n",
       "    </tr>\n",
       "  </thead>\n",
       "  <tbody>\n",
       "    <tr>\n",
       "      <th>Comuna</th>\n",
       "      <td>19458310</td>\n",
       "    </tr>\n",
       "    <tr>\n",
       "      <th>Region</th>\n",
       "      <td>19458310</td>\n",
       "    </tr>\n",
       "    <tr>\n",
       "      <th>zona</th>\n",
       "      <td>19458310</td>\n",
       "    </tr>\n",
       "  </tbody>\n",
       "</table>\n",
       "</div>"
      ],
      "text/plain": [
       "        Poblacion\n",
       "fecha            \n",
       "Comuna   19458310\n",
       "Region   19458310\n",
       "zona     19458310"
      ]
     },
     "execution_count": 394,
     "metadata": {},
     "output_type": "execute_result"
    }
   ],
   "source": [
    "totalchile.loc[totalchile['Poblacion'] == totalchile.max()[0]]\n",
    "#maximo de personas en cuarentena fecha"
   ]
  },
  {
   "cell_type": "code",
   "execution_count": 395,
   "id": "f38157de-f1b4-470b-80b3-ad9192a4b30f",
   "metadata": {},
   "outputs": [
    {
     "data": {
      "text/html": [
       "<div>\n",
       "<style scoped>\n",
       "    .dataframe tbody tr th:only-of-type {\n",
       "        vertical-align: middle;\n",
       "    }\n",
       "\n",
       "    .dataframe tbody tr th {\n",
       "        vertical-align: top;\n",
       "    }\n",
       "\n",
       "    .dataframe thead th {\n",
       "        text-align: right;\n",
       "    }\n",
       "</style>\n",
       "<table border=\"1\" class=\"dataframe\">\n",
       "  <thead>\n",
       "    <tr style=\"text-align: right;\">\n",
       "      <th></th>\n",
       "      <th>codigo_region</th>\n",
       "      <th>region_residencia</th>\n",
       "      <th>Codigo comuna</th>\n",
       "      <th>comuna_residencia</th>\n",
       "      <th>Poblacion</th>\n",
       "      <th>fecha</th>\n",
       "      <th>paso</th>\n",
       "    </tr>\n",
       "  </thead>\n",
       "  <tbody>\n",
       "    <tr>\n",
       "      <th>775</th>\n",
       "      <td>12</td>\n",
       "      <td>Magallanes</td>\n",
       "      <td>12402</td>\n",
       "      <td>Torres del Paine</td>\n",
       "      <td>0</td>\n",
       "      <td>2020-07-28</td>\n",
       "      <td>3</td>\n",
       "    </tr>\n",
       "    <tr>\n",
       "      <th>510</th>\n",
       "      <td>13</td>\n",
       "      <td>Metropolitana</td>\n",
       "      <td>13122</td>\n",
       "      <td>Peñalolén</td>\n",
       "      <td>266798</td>\n",
       "      <td>2020-07-28</td>\n",
       "      <td>1</td>\n",
       "    </tr>\n",
       "    <tr>\n",
       "      <th>511</th>\n",
       "      <td>13</td>\n",
       "      <td>Metropolitana</td>\n",
       "      <td>13202</td>\n",
       "      <td>Pirque</td>\n",
       "      <td>0</td>\n",
       "      <td>2020-07-28</td>\n",
       "      <td>3</td>\n",
       "    </tr>\n",
       "    <tr>\n",
       "      <th>512</th>\n",
       "      <td>13</td>\n",
       "      <td>Metropolitana</td>\n",
       "      <td>13123</td>\n",
       "      <td>Providencia</td>\n",
       "      <td>157749</td>\n",
       "      <td>2020-07-28</td>\n",
       "      <td>1</td>\n",
       "    </tr>\n",
       "    <tr>\n",
       "      <th>513</th>\n",
       "      <td>13</td>\n",
       "      <td>Metropolitana</td>\n",
       "      <td>13124</td>\n",
       "      <td>Pudahuel</td>\n",
       "      <td>253139</td>\n",
       "      <td>2020-07-28</td>\n",
       "      <td>1</td>\n",
       "    </tr>\n",
       "  </tbody>\n",
       "</table>\n",
       "</div>"
      ],
      "text/plain": [
       "     codigo_region region_residencia  Codigo comuna comuna_residencia  \\\n",
       "775             12        Magallanes          12402  Torres del Paine   \n",
       "510             13     Metropolitana          13122         Peñalolén   \n",
       "511             13     Metropolitana          13202            Pirque   \n",
       "512             13     Metropolitana          13123       Providencia   \n",
       "513             13     Metropolitana          13124          Pudahuel   \n",
       "\n",
       "     Poblacion       fecha paso  \n",
       "775          0  2020-07-28    3  \n",
       "510     266798  2020-07-28    1  \n",
       "511          0  2020-07-28    3  \n",
       "512     157749  2020-07-28    1  \n",
       "513     253139  2020-07-28    1  "
      ]
     },
     "execution_count": 395,
     "metadata": {},
     "output_type": "execute_result"
    }
   ],
   "source": [
    "datos1.head()"
   ]
  },
  {
   "cell_type": "code",
   "execution_count": 396,
   "id": "951a0332-743b-4c63-ad4c-ba7cae003971",
   "metadata": {},
   "outputs": [],
   "source": [
    "region1=datos1[(datos1['codigo_region']==1)] # TARAPACA\n",
    "region2=datos1[(datos1['codigo_region']==2)] # ANTOFAGASTA\n",
    "region3=datos1[(datos1['codigo_region']==3)] # ATACAMA\n",
    "region4=datos1[(datos1['codigo_region']==4)] # COQUIMBO\n",
    "region5=datos1[(datos1['codigo_region']==5)] # VALPARAISO\n",
    "region6=datos1[(datos1['codigo_region']==6)] # O'HIGGINS\n",
    "region7=datos1[(datos1['codigo_region']==7)] # EL MAULE\n",
    "region8=datos1[(datos1['codigo_region']==8)] # EL BIOBIO\n",
    "region9=datos1[(datos1['codigo_region']==9)] # LA ARAUCANIA\n",
    "region10=datos1[(datos1['codigo_region']==10)] # LOS LAGOS\n",
    "region11=datos1[(datos1['codigo_region']==11)] # AYSEN\n",
    "region12=datos1[(datos1['codigo_region']==12)] # MAGALLANES Y LA ANTARTICA CHILENA\n",
    "region13=datos1[(datos1['codigo_region']==13)] # METROPOLITANA DE SANTIAGO\n",
    "region14=datos1[(datos1['codigo_region']==14)] # LOS RIOS\n",
    "region15=datos1[(datos1['codigo_region']==15)] # ARICA Y PARINACOTA\n",
    "region16=datos1[(datos1['codigo_region']==16)] # ÑUBLE\n"
   ]
  },
  {
   "cell_type": "code",
   "execution_count": 398,
   "id": "8e58dd59-a24d-4d0c-bcab-c1599b8e2134",
   "metadata": {},
   "outputs": [
    {
     "data": {
      "text/plain": [
       "<AxesSubplot:xlabel='fecha', ylabel='Poblacion'>"
      ]
     },
     "execution_count": 398,
     "metadata": {},
     "output_type": "execute_result"
    },
    {
     "data": {
      "image/png": "[encoded data removed]",
      "text/plain": [
       "<Figure size 432x288 with 1 Axes>"
      ]
     },
     "metadata": {
      "needs_background": "light"
     },
     "output_type": "display_data"
    }
   ],
   "source": [
    "sns.lineplot(x='fecha', y='Poblacion', data=region1)\n",
    "#cuarentena region 1"
   ]
  },
  {
   "cell_type": "code",
   "execution_count": 399,
   "id": "27a2e06f-16f2-4521-adff-3a5800069121",
   "metadata": {},
   "outputs": [
    {
     "data": {
      "text/plain": [
       "<AxesSubplot:xlabel='fecha', ylabel='Poblacion'>"
      ]
     },
     "execution_count": 399,
     "metadata": {},
     "output_type": "execute_result"
    },
    {
     "data": {
      "image/png": "[encoded data removed]",
      "text/plain": [
       "<Figure size 432x288 with 1 Axes>"
      ]
     },
     "metadata": {
      "needs_background": "light"
     },
     "output_type": "display_data"
    }
   ],
   "source": [
    "sns.lineplot(x='fecha', y='Poblacion', data=region2)"
   ]
  },
  {
   "cell_type": "code",
   "execution_count": 400,
   "id": "3bee8f02-7492-445d-83c0-4727b9a9bbc6",
   "metadata": {},
   "outputs": [
    {
     "data": {
      "text/plain": [
       "<AxesSubplot:xlabel='fecha', ylabel='Poblacion'>"
      ]
     },
     "execution_count": 400,
     "metadata": {},
     "output_type": "execute_result"
    },
    {
     "data": {
      "image/png": "[encoded data removed]",
      "text/plain": [
       "<Figure size 432x288 with 1 Axes>"
      ]
     },
     "metadata": {
      "needs_background": "light"
     },
     "output_type": "display_data"
    }
   ],
   "source": [
    "sns.lineplot(x='fecha', y='Poblacion', data=region3)"
   ]
  },
  {
   "cell_type": "code",
   "execution_count": 401,
   "id": "ec931007-17c6-46a8-be8a-e4595cb5eb8b",
   "metadata": {},
   "outputs": [
    {
     "data": {
      "text/plain": [
       "<AxesSubplot:xlabel='fecha', ylabel='Poblacion'>"
      ]
     },
     "execution_count": 401,
     "metadata": {},
     "output_type": "execute_result"
    },
    {
     "data": {
      "image/png": "[encoded data removed]",
      "text/plain": [
       "<Figure size 432x288 with 1 Axes>"
      ]
     },
     "metadata": {
      "needs_background": "light"
     },
     "output_type": "display_data"
    }
   ],
   "source": [
    "sns.lineplot(x='fecha', y='Poblacion', data=region4)"
   ]
  },
  {
   "cell_type": "code",
   "execution_count": 402,
   "id": "2247b805-92f1-44a3-b690-ed48f5d67620",
   "metadata": {},
   "outputs": [
    {
     "data": {
      "text/plain": [
       "<AxesSubplot:xlabel='fecha', ylabel='Poblacion'>"
      ]
     },
     "execution_count": 402,
     "metadata": {},
     "output_type": "execute_result"
    },
    {
     "data": {
      "image/png": "[encoded data removed]",
      "text/plain": [
       "<Figure size 432x288 with 1 Axes>"
      ]
     },
     "metadata": {
      "needs_background": "light"
     },
     "output_type": "display_data"
    }
   ],
   "source": [
    "sns.lineplot(x='fecha', y='Poblacion', data=region5)"
   ]
  },
  {
   "cell_type": "code",
   "execution_count": 403,
   "id": "bf54fe07-c104-4471-a24a-d17c83ae271a",
   "metadata": {},
   "outputs": [
    {
     "data": {
      "text/plain": [
       "<AxesSubplot:xlabel='fecha', ylabel='Poblacion'>"
      ]
     },
     "execution_count": 403,
     "metadata": {},
     "output_type": "execute_result"
    },
    {
     "data": {
      "image/png": "[encoded data removed]",
      "text/plain": [
       "<Figure size 432x288 with 1 Axes>"
      ]
     },
     "metadata": {
      "needs_background": "light"
     },
     "output_type": "display_data"
    }
   ],
   "source": [
    "sns.lineplot(x='fecha', y='Poblacion', data=region6)"
   ]
  },
  {
   "cell_type": "code",
   "execution_count": 404,
   "id": "4b69a7d2-f14a-454d-9d0c-d55aedc040a5",
   "metadata": {},
   "outputs": [
    {
     "data": {
      "text/plain": [
       "<AxesSubplot:xlabel='fecha', ylabel='Poblacion'>"
      ]
     },
     "execution_count": 404,
     "metadata": {},
     "output_type": "execute_result"
    },
    {
     "data": {
      "image/png": "[encoded data removed]",
      "text/plain": [
       "<Figure size 432x288 with 1 Axes>"
      ]
     },
     "metadata": {
      "needs_background": "light"
     },
     "output_type": "display_data"
    }
   ],
   "source": [
    "sns.lineplot(x='fecha', y='Poblacion', data=region7)"
   ]
  },
  {
   "cell_type": "code",
   "execution_count": 405,
   "id": "a2ee179b-bb78-4e86-81a6-37076cceca4b",
   "metadata": {},
   "outputs": [
    {
     "data": {
      "text/plain": [
       "<AxesSubplot:xlabel='fecha', ylabel='Poblacion'>"
      ]
     },
     "execution_count": 405,
     "metadata": {},
     "output_type": "execute_result"
    },
    {
     "data": {
      "image/png": "[encoded data removed]",
      "text/plain": [
       "<Figure size 432x288 with 1 Axes>"
      ]
     },
     "metadata": {
      "needs_background": "light"
     },
     "output_type": "display_data"
    }
   ],
   "source": [
    "sns.lineplot(x='fecha', y='Poblacion', data=region8)"
   ]
  },
  {
   "cell_type": "code",
   "execution_count": 406,
   "id": "d1f932ed-dd12-4b62-ab4b-c85e3d12463f",
   "metadata": {},
   "outputs": [
    {
     "data": {
      "text/plain": [
       "<AxesSubplot:xlabel='fecha', ylabel='Poblacion'>"
      ]
     },
     "execution_count": 406,
     "metadata": {},
     "output_type": "execute_result"
    },
    {
     "data": {
      "image/png": "[encoded data removed]",
      "text/plain": [
       "<Figure size 432x288 with 1 Axes>"
      ]
     },
     "metadata": {
      "needs_background": "light"
     },
     "output_type": "display_data"
    }
   ],
   "source": [
    "sns.lineplot(x='fecha', y='Poblacion', data=region9)"
   ]
  },
  {
   "cell_type": "code",
   "execution_count": 407,
   "id": "13a313dc-d4a3-458a-b5cc-3647e6c55067",
   "metadata": {},
   "outputs": [
    {
     "data": {
      "text/plain": [
       "<AxesSubplot:xlabel='fecha', ylabel='Poblacion'>"
      ]
     },
     "execution_count": 407,
     "metadata": {},
     "output_type": "execute_result"
    },
    {
     "data": {
      "image/png": "[encoded data removed]",
      "text/plain": [
       "<Figure size 432x288 with 1 Axes>"
      ]
     },
     "metadata": {
      "needs_background": "light"
     },
     "output_type": "display_data"
    }
   ],
   "source": [
    "sns.lineplot(x='fecha', y='Poblacion', data=region10)"
   ]
  },
  {
   "cell_type": "code",
   "execution_count": 408,
   "id": "12d721ca-a04a-4b76-89e3-ee67b19070ad",
   "metadata": {},
   "outputs": [
    {
     "data": {
      "text/plain": [
       "<AxesSubplot:xlabel='fecha', ylabel='Poblacion'>"
      ]
     },
     "execution_count": 408,
     "metadata": {},
     "output_type": "execute_result"
    },
    {
     "data": {
      "image/png": "[encoded data removed]",
      "text/plain": [
       "<Figure size 432x288 with 1 Axes>"
      ]
     },
     "metadata": {
      "needs_background": "light"
     },
     "output_type": "display_data"
    }
   ],
   "source": [
    "sns.lineplot(x='fecha', y='Poblacion', data=region11)"
   ]
  },
  {
   "cell_type": "code",
   "execution_count": 409,
   "id": "0651af8c-331b-4039-978d-bd94489a0614",
   "metadata": {},
   "outputs": [
    {
     "data": {
      "text/plain": [
       "<AxesSubplot:xlabel='fecha', ylabel='Poblacion'>"
      ]
     },
     "execution_count": 409,
     "metadata": {},
     "output_type": "execute_result"
    },
    {
     "data": {
      "image/png": "[encoded data removed]",
      "text/plain": [
       "<Figure size 432x288 with 1 Axes>"
      ]
     },
     "metadata": {
      "needs_background": "light"
     },
     "output_type": "display_data"
    }
   ],
   "source": [
    "sns.lineplot(x='fecha', y='Poblacion', data=region12)"
   ]
  },
  {
   "cell_type": "code",
   "execution_count": 410,
   "id": "fb749aa1-47fd-401b-a5b3-63c117947732",
   "metadata": {},
   "outputs": [
    {
     "data": {
      "text/plain": [
       "<AxesSubplot:xlabel='fecha', ylabel='Poblacion'>"
      ]
     },
     "execution_count": 410,
     "metadata": {},
     "output_type": "execute_result"
    },
    {
     "data": {
      "image/png": "[encoded data removed]",
      "text/plain": [
       "<Figure size 432x288 with 1 Axes>"
      ]
     },
     "metadata": {
      "needs_background": "light"
     },
     "output_type": "display_data"
    }
   ],
   "source": [
    "sns.lineplot(x='fecha', y='Poblacion', data=region13)"
   ]
  },
  {
   "cell_type": "code",
   "execution_count": 411,
   "id": "be6bc345-ff45-4cae-812b-86fef74baf09",
   "metadata": {},
   "outputs": [
    {
     "data": {
      "text/plain": [
       "<AxesSubplot:xlabel='fecha', ylabel='Poblacion'>"
      ]
     },
     "execution_count": 411,
     "metadata": {},
     "output_type": "execute_result"
    },
    {
     "data": {
      "image/png": "[encoded data removed]",
      "text/plain": [
       "<Figure size 432x288 with 1 Axes>"
      ]
     },
     "metadata": {
      "needs_background": "light"
     },
     "output_type": "display_data"
    }
   ],
   "source": [
    "sns.lineplot(x='fecha', y='Poblacion', data=region14)"
   ]
  },
  {
   "cell_type": "code",
   "execution_count": 412,
   "id": "4bf85686-030c-48d0-8bd5-9bf72f3161cd",
   "metadata": {},
   "outputs": [
    {
     "data": {
      "text/plain": [
       "<AxesSubplot:xlabel='fecha', ylabel='Poblacion'>"
      ]
     },
     "execution_count": 412,
     "metadata": {},
     "output_type": "execute_result"
    },
    {
     "data": {
      "image/png": "[encoded data removed]",
      "text/plain": [
       "<Figure size 432x288 with 1 Axes>"
      ]
     },
     "metadata": {
      "needs_background": "light"
     },
     "output_type": "display_data"
    }
   ],
   "source": [
    "sns.lineplot(x='fecha', y='Poblacion', data=region15)"
   ]
  },
  {
   "cell_type": "code",
   "execution_count": 413,
   "id": "5d88c714-b93c-4432-ac77-86bb36bb0d17",
   "metadata": {},
   "outputs": [
    {
     "data": {
      "text/plain": [
       "<AxesSubplot:xlabel='fecha', ylabel='Poblacion'>"
      ]
     },
     "execution_count": 413,
     "metadata": {},
     "output_type": "execute_result"
    },
    {
     "data": {
      "image/png": "[encoded data removed]",
      "text/plain": [
       "<Figure size 432x288 with 1 Axes>"
      ]
     },
     "metadata": {
      "needs_background": "light"
     },
     "output_type": "display_data"
    }
   ],
   "source": [
    "sns.lineplot(x='fecha', y='Poblacion', data=region16)"
   ]
  },
  {
   "cell_type": "code",
   "execution_count": null,
   "id": "4d1849da-9e4f-4b22-8de2-a79ec57dc029",
   "metadata": {},
   "outputs": [],
   "source": [
    "s1=paspobr1.groupby(['fecha']).sum()\n",
    "s2=paspobr2.groupby(['fecha']).sum()\n",
    "s3=paspobr3.groupby(['fecha']).sum()\n",
    "s4=paspobr4.groupby(['fecha']).sum()\n",
    "s5=paspobr5.groupby(['fecha']).sum()\n",
    "s6=paspobr6.groupby(['fecha']).sum()\n",
    "s7=paspobr7.groupby(['fecha']).sum()\n",
    "s8=paspobr8.groupby(['fecha']).sum()\n",
    "s9=paspobr9.groupby(['fecha']).sum()\n",
    "s10=paspobr10.groupby(['fecha']).sum()\n",
    "s11=paspobr11.groupby(['fecha']).sum()\n",
    "s12=paspobr12.groupby(['fecha']).sum()\n",
    "s13=paspobr13.groupby(['fecha']).sum()\n",
    "s14=paspobr14.groupby(['fecha']).sum()\n",
    "s15=paspobr15.groupby(['fecha']).sum()\n",
    "s16=paspobr16.groupby(['fecha']).sum()"
   ]
  }
 ],
 "metadata": {
  "kernelspec": {
   "display_name": "Python 3",
   "language": "python",
   "name": "python3"
  },
  "language_info": {
   "codemirror_mode": {
    "name": "ipython",
    "version": 3
   },
   "file_extension": ".py",
   "mimetype": "text/x-python",
   "name": "python",
   "nbconvert_exporter": "python",
   "pygments_lexer": "ipython3",
   "version": "3.8.8"
  }
 },
 "nbformat": 4,
 "nbformat_minor": 5
}
